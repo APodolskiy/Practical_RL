{
 "cells": [
  {
   "cell_type": "markdown",
   "metadata": {},
   "source": [
    "## Alternative assignment\n",
    "\n",
    "Here you can find an alternative assignment notebook which does not require py2 or a physical screen.\n",
    "\n",
    "For starters, please go to __qlearning.py__ file in the current folder and implement q-learning agent by following instructions in the file."
   ]
  },
  {
   "cell_type": "code",
   "execution_count": 1,
   "metadata": {
    "collapsed": true
   },
   "outputs": [],
   "source": [
    "#XVFB will be launched if you run on a server\n",
    "import os\n",
    "if type(os.environ.get(\"DISPLAY\")) is not str or len(os.environ.get(\"DISPLAY\"))==0:\n",
    "    !bash ../xvfb start\n",
    "    %env DISPLAY=:1\n",
    "\n",
    "import numpy as np\n",
    "import matplotlib.pyplot as plt\n",
    "%matplotlib inline\n",
    "from IPython.display import clear_output"
   ]
  },
  {
   "cell_type": "code",
   "execution_count": 1,
   "metadata": {
    "collapsed": true
   },
   "outputs": [],
   "source": [
    "import numpy as np\n",
    "import matplotlib.pyplot as plt\n",
    "%matplotlib inline\n",
    "from IPython.display import clear_output"
   ]
  },
  {
   "cell_type": "markdown",
   "metadata": {},
   "source": [
    "### Demo on taxi\n",
    "\n",
    "Here we use the qlearning agent from before on taxi env from openai gym.\n",
    "You will need to insert a few agent functions here."
   ]
  },
  {
   "cell_type": "code",
   "execution_count": 2,
   "metadata": {},
   "outputs": [
    {
     "name": "stderr",
     "output_type": "stream",
     "text": [
      "[2017-09-16 10:24:06,773] Making new env: Taxi-v2\n"
     ]
    }
   ],
   "source": [
    "import gym\n",
    "env = gym.make(\"Taxi-v2\")\n",
    "\n",
    "n_actions = env.action_space.n"
   ]
  },
  {
   "cell_type": "code",
   "execution_count": 3,
   "metadata": {
    "collapsed": true
   },
   "outputs": [],
   "source": [
    "from qlearning import QLearningAgent\n",
    "\n",
    "agent = QLearningAgent(alpha=0.5,epsilon=0.1,discount=0.99,\n",
    "                       getLegalActions = lambda s: range(n_actions))"
   ]
  },
  {
   "cell_type": "code",
   "execution_count": 4,
   "metadata": {
    "collapsed": true
   },
   "outputs": [],
   "source": [
    "def play_and_train(env,agent,t_max=10**4):\n",
    "    \"\"\"This function should \n",
    "    - run a full game, actions given by agent.getAction(s)\n",
    "    - train agent using agent.update(...) whenever possible\n",
    "    - return total reward\"\"\"\n",
    "    total_reward = 0.0\n",
    "    s = env.reset()\n",
    "    \n",
    "    for t in range(t_max):\n",
    "        a = agent.getAction(s)\n",
    "        #<get agent to pick action given state s>\n",
    "        \n",
    "        next_s,r,done,_ = env.step(a)\n",
    "        \n",
    "        #<train(update) agent for state s>\n",
    "        agent.update(s, a, next_s, r)\n",
    "        \n",
    "        s = next_s\n",
    "        total_reward +=r\n",
    "        if done:\n",
    "            break\n",
    "        \n",
    "    return total_reward\n",
    "    \n",
    "        \n",
    "    "
   ]
  },
  {
   "cell_type": "code",
   "execution_count": 5,
   "metadata": {},
   "outputs": [
    {
     "name": "stdout",
     "output_type": "stream",
     "text": [
      "0.0405980235923\n"
     ]
    },
    {
     "data": {
      "image/png": "[encoded data removed]",
      "text/plain": [
       "<matplotlib.figure.Figure at 0xbb15e80>"
      ]
     },
     "metadata": {},
     "output_type": "display_data"
    }
   ],
   "source": [
    "rewards = []\n",
    "for i in range(1000):\n",
    "    rewards.append(play_and_train(env,agent))\n",
    "    \n",
    "    agent.epsilon *= 0.999\n",
    "    \n",
    "    if i %100 ==0:\n",
    "        clear_output(True)\n",
    "        print agent.epsilon\n",
    "        plt.plot(rewards)\n",
    "        plt.show()\n",
    "        "
   ]
  },
  {
   "cell_type": "markdown",
   "metadata": {
    "collapsed": true
   },
   "source": [
    "# Main assignment\n",
    "\n",
    "Use agent to train efficiently on CartPole-v0\n",
    "\n",
    "This environment has a continuous number of states, so you will have to group them into bins somehow.\n",
    "\n",
    "The simplest way is to use `round(x,n_digits)` (or numpy round) to round real number to a given amount of digits.\n",
    "\n",
    "The tricky part is to get the n_digits right for each state to train effectively.\n",
    "\n",
    "Note that you don't need to convert state to integers, but to __tuples__ of any kind of values."
   ]
  },
  {
   "cell_type": "code",
   "execution_count": 6,
   "metadata": {
    "collapsed": true
   },
   "outputs": [],
   "source": [
    "import math"
   ]
  },
  {
   "cell_type": "code",
   "execution_count": 267,
   "metadata": {},
   "outputs": [
    {
     "name": "stderr",
     "output_type": "stream",
     "text": [
      "[2017-09-16 18:39:28,062] Making new env: CartPole-v0\n"
     ]
    },
    {
     "data": {
      "text/plain": [
       "[(-4.7999999999999998, 4.7999999999999998),\n",
       " [-0.5, 0.5],\n",
       " (-0.41887902047863906, 0.41887902047863906),\n",
       " [-0.8726646259971648, 0.8726646259971648]]"
      ]
     },
     "execution_count": 267,
     "metadata": {},
     "output_type": "execute_result"
    }
   ],
   "source": [
    "#run xvfb and set %env DISPLAY=:1 if in binder or on a server\n",
    "env = gym.make(\"CartPole-v0\")\n",
    "n_actions = env.action_space.n\n",
    "state_bounds = zip(env.observation_space.low, env.observation_space.high)\n",
    "state_bounds[1] = [-0.5, 0.5]\n",
    "state_bounds[3] = [-math.radians(50), math.radians(50)]\n",
    "state_bounds"
   ]
  },
  {
   "cell_type": "code",
   "execution_count": 295,
   "metadata": {
    "collapsed": true
   },
   "outputs": [],
   "source": [
    "def get_state(state):\n",
    "    return (round(state[0], 1), round(state[1], 1), round(state[2], 2), round(state[3], 2))\n",
    "    \n",
    "def get_state2(state):\n",
    "    pos_step = (state_bounds[0][1] - state_bounds[0][0])/1\n",
    "    cart_pos_bins = np.arange(state_bounds[0][0], state_bounds[0][1], pos_step)\n",
    "    pos_state = int(np.digitize(state[0], cart_pos_bins))\n",
    "    \n",
    "    vel_step = (state_bounds[1][1] - state_bounds[1][0])/1\n",
    "    cart_vel_bins = np.arange(state_bounds[1][0], state_bounds[1][1], vel_step)\n",
    "    vel_state = int(np.digitize(state[1], cart_vel_bins))\n",
    "    \n",
    "    an_step = (state_bounds[2][1] - state_bounds[2][0])/6\n",
    "    an_pol_bins = np.arange(state_bounds[2][0], state_bounds[2][1], an_step)\n",
    "    an_state = int(np.digitize(state[2], an_pol_bins))\n",
    "    \n",
    "    an_vel_step = (state_bounds[3][1] - state_bounds[3][0])/3\n",
    "    an_vel_pol_bins = np.arange(state_bounds[3][0], state_bounds[3][1], an_vel_step)\n",
    "    an_vel_state = int(np.digitize(state[3], an_vel_pol_bins))\n",
    "    \n",
    "    return (pos_state, vel_state, an_state, an_vel_state)"
   ]
  },
  {
   "cell_type": "code",
   "execution_count": 347,
   "metadata": {
    "collapsed": true
   },
   "outputs": [],
   "source": [
    "def get_explore_rate(t):\n",
    "    return max(0.01, min(1, 1.0 - np.log10((t+1)/20)))\n",
    "\n",
    "def get_learning_rate(t):\n",
    "    return max(0.1, min(0.7, 1.0 - np.log10((t+1)/20)))"
   ]
  },
  {
   "cell_type": "code",
   "execution_count": 348,
   "metadata": {},
   "outputs": [],
   "source": [
    "def change_exploration_lin(t, start=0.1, end=0.01, max_steps=1000):\n",
    "    u, v = 1.0*(end - start)/max_steps, start\n",
    "    return u*t + v\n",
    "\n",
    "def change_learning_rate_lin(t, start=0.5, end=0.1, max_steps=1000):\n",
    "    u, v = 1.0*(end - start)/max_steps, start\n",
    "    return u*t + v                                              "
   ]
  },
  {
   "cell_type": "code",
   "execution_count": 349,
   "metadata": {},
   "outputs": [
    {
     "name": "stdout",
     "output_type": "stream",
     "text": [
      "('first state:', (0, 0, 2, 1))\n"
     ]
    },
    {
     "data": {
      "text/plain": [
       "<matplotlib.image.AxesImage at 0x1c170390>"
      ]
     },
     "execution_count": 349,
     "metadata": {},
     "output_type": "execute_result"
    },
    {
     "data": {
      "image/png": "[encoded data removed]",
      "text/plain": [
       "<matplotlib.figure.Figure at 0x199c51d0>"
      ]
     },
     "metadata": {},
     "output_type": "display_data"
    }
   ],
   "source": [
    "print(\"first state:\", get_state3(env.reset()))\n",
    "plt.imshow(env.render('rgb_array'))"
   ]
  },
  {
   "cell_type": "code",
   "execution_count": 353,
   "metadata": {
    "collapsed": true
   },
   "outputs": [],
   "source": [
    "def play_and_train(env, agent, t_max=10**4, render=False):\n",
    "    total_reward = 0.0\n",
    "    s = env.reset()\n",
    "    \n",
    "    for t in xrange(t_max):\n",
    "        if render:\n",
    "            env.render()\n",
    "        a = agent.getAction(get_state2(s))\n",
    "        next_s, r, done, _ = env.step(a)\n",
    "        agent.update(get_state2(s), a, get_state2(next_s), r)\n",
    "        s = next_s\n",
    "        total_reward += r\n",
    "        if done:\n",
    "            break\n",
    "        \n",
    "    return total_reward"
   ]
  },
  {
   "cell_type": "code",
   "execution_count": 358,
   "metadata": {
    "collapsed": true
   },
   "outputs": [],
   "source": [
    "agent = QLearningAgent(alpha=0.7, epsilon=0.2, discount=0.99,\n",
    "                       getLegalActions = lambda s: range(n_actions))"
   ]
  },
  {
   "cell_type": "code",
   "execution_count": 359,
   "metadata": {},
   "outputs": [
    {
     "name": "stdout",
     "output_type": "stream",
     "text": [
      "0.01\n"
     ]
    },
    {
     "data": {
      "image/png": "[encoded data removed]",
      "text/plain": [
       "<matplotlib.figure.Figure at 0x17604c50>"
      ]
     },
     "metadata": {},
     "output_type": "display_data"
    }
   ],
   "source": [
    "rewards = []\n",
    "alphas = []\n",
    "epsilons = []\n",
    "num_epochs = 10000\n",
    "\n",
    "for i in range(num_epochs):\n",
    "    rewards.append(play_and_train(env, agent))\n",
    "    agent.epsilon = get_explore_rate(i)\n",
    "    agent.alpha = get_learning_rate(i)\n",
    "    \n",
    "    alphas.append(agent.alpha)\n",
    "    epsilons.append(agent.epsilon)\n",
    "    \n",
    "    if i %100 == 0:\n",
    "        clear_output(True)\n",
    "        print agent.epsilon\n",
    "        plt.figure(figsize=(15,6))\n",
    "        plt.subplot(131)\n",
    "        plt.plot(rewards)\n",
    "        plt.subplot(132)\n",
    "        plt.plot(alphas)\n",
    "        plt.subplot(133)\n",
    "        plt.plot(epsilons)\n",
    "        plt.show()\n",
    "clear_output(True)\n",
    "print agent.epsilon\n",
    "plt.plot(rewards)\n",
    "plt.show()"
   ]
  },
  {
   "cell_type": "code",
   "execution_count": 355,
   "metadata": {},
   "outputs": [
    {
     "name": "stdout",
     "output_type": "stream",
     "text": [
      "Mean rewards after 100 games is 196.330588235\n"
     ]
    }
   ],
   "source": [
    "# Test for solved\n",
    "for i in range(100):\n",
    "    rewards.append(play_and_train(env, agent, render=True))\n",
    "print \"Mean rewards after {} games is {}\".format(100, np.array(rewards).mean())"
   ]
  },
  {
   "cell_type": "code",
   "execution_count": null,
   "metadata": {
    "collapsed": true
   },
   "outputs": [],
   "source": []
  }
 ],
 "metadata": {
  "kernelspec": {
   "display_name": "HSE DEEP",
   "language": "python",
   "name": "hse_deep"
  },
  "language_info": {
   "codemirror_mode": {
    "name": "ipython",
    "version": 2
   },
   "file_extension": ".py",
   "mimetype": "text/x-python",
   "name": "python",
   "nbconvert_exporter": "python",
   "pygments_lexer": "ipython2",
   "version": "2.7.13"
  }
 },
 "nbformat": 4,
 "nbformat_minor": 1
}
