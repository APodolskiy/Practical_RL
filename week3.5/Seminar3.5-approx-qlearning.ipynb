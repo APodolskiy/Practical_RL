{
 "cells": [
  {
   "cell_type": "markdown",
   "metadata": {},
   "source": [
    "# Approximate q-learning\n",
    "\n",
    "In this notebook you will teach a lasagne neural network to do Q-learning."
   ]
  },
  {
   "cell_type": "markdown",
   "metadata": {},
   "source": [
    "__Frameworks__ - we'll accept this homework in any deep learning framework. For example, it translates to TensorFlow almost line-to-line. However, we recommend you to stick to theano/lasagne unless you're certain about your skills in the framework of your choice."
   ]
  },
  {
   "cell_type": "code",
   "execution_count": 1,
   "metadata": {
    "collapsed": true
   },
   "outputs": [],
   "source": [
    "#XVFB will be launched if you run on a server\n",
    "import os\n",
    "if type(os.environ.get(\"DISPLAY\")) is not str or len(os.environ.get(\"DISPLAY\"))==0:\n",
    "    !bash ../xvfb start\n",
    "    %env DISPLAY=:1"
   ]
  },
  {
   "cell_type": "code",
   "execution_count": 5,
   "metadata": {
    "collapsed": true
   },
   "outputs": [],
   "source": [
    "import gym\n",
    "import numpy as np, pandas as pd\n",
    "import matplotlib.pyplot as plt\n",
    "%matplotlib inline"
   ]
  },
  {
   "cell_type": "code",
   "execution_count": 6,
   "metadata": {
    "scrolled": false
   },
   "outputs": [
    {
     "name": "stderr",
     "output_type": "stream",
     "text": [
      "[2017-09-22 22:34:21,100] Making new env: CartPole-v0\n"
     ]
    },
    {
     "data": {
      "text/plain": [
       "<matplotlib.image.AxesImage at 0xe53f780>"
      ]
     },
     "execution_count": 6,
     "metadata": {},
     "output_type": "execute_result"
    },
    {
     "data": {
      "image/png": "[encoded data removed]",
      "text/plain": [
       "<matplotlib.figure.Figure at 0xc0e76d8>"
      ]
     },
     "metadata": {},
     "output_type": "display_data"
    }
   ],
   "source": [
    "env = gym.make(\"CartPole-v0\")\n",
    "env.reset()\n",
    "n_actions = env.action_space.n\n",
    "state_dim = env.observation_space.shape\n",
    "\n",
    "plt.imshow(env.render(\"rgb_array\"))"
   ]
  },
  {
   "cell_type": "markdown",
   "metadata": {},
   "source": [
    "# Approximate (deep) Q-learning: building the network\n",
    "\n",
    "In this section we will build and train naive Q-learning with theano/lasagne"
   ]
  },
  {
   "cell_type": "markdown",
   "metadata": {},
   "source": [
    "First step is initializing input variables"
   ]
  },
  {
   "cell_type": "code",
   "execution_count": 7,
   "metadata": {
    "collapsed": true
   },
   "outputs": [],
   "source": [
    "import theano\n",
    "import theano.tensor as T\n",
    "\n",
    "#create input variables. We'll support multiple states at once\n",
    "\n",
    "\n",
    "current_states = T.matrix(\"states[batch,units]\")\n",
    "actions = T.ivector(\"action_ids[batch]\")\n",
    "rewards = T.vector(\"rewards[batch]\")\n",
    "next_states = T.matrix(\"next states[batch,units]\")\n",
    "is_end = T.ivector(\"vector[batch] where 1 means that session just ended\")"
   ]
  },
  {
   "cell_type": "code",
   "execution_count": 8,
   "metadata": {
    "collapsed": true
   },
   "outputs": [],
   "source": [
    "import lasagne\n",
    "from lasagne.layers import *"
   ]
  },
  {
   "cell_type": "code",
   "execution_count": 9,
   "metadata": {
    "collapsed": true
   },
   "outputs": [],
   "source": [
    "#input layer\n",
    "l_states = InputLayer((None,)+state_dim)\n",
    "\n",
    "#<Your architecture. Please start with a single-layer network>\n",
    "dense_1 = DenseLayer(l_states, num_units=30, nonlinearity=lasagne.nonlinearities.rectify, name='dense_1')\n",
    "dense_2 = DenseLayer(dense_1, num_units=40, nonlinearity=lasagne.nonlinearities.rectify, name='dense_2')\n",
    "dense_3 = DenseLayer(dense_2, num_units=30, nonlinearity=lasagne.nonlinearities.rectify, name='dense_3')\n",
    "\n",
    "#output layer\n",
    "l_qvalues = DenseLayer(dense_3, num_units=n_actions, nonlinearity=None)"
   ]
  },
  {
   "cell_type": "markdown",
   "metadata": {},
   "source": [
    "#### Predicting Q-values for `current_states`"
   ]
  },
  {
   "cell_type": "code",
   "execution_count": 63,
   "metadata": {
    "collapsed": true
   },
   "outputs": [],
   "source": [
    "#get q-values for ALL actions in current_states\n",
    "predicted_qvalues = get_output(l_qvalues, {l_states:current_states})"
   ]
  },
  {
   "cell_type": "code",
   "execution_count": 64,
   "metadata": {
    "collapsed": true
   },
   "outputs": [],
   "source": [
    "#compiling agent's \"GetQValues\" function\n",
    "#get_qvalues = <compile a function that takes current_states and returns predicted_qvalues>\n",
    "get_qvalues = theano.function(inputs=[current_states],\n",
    "                              outputs=[predicted_qvalues])"
   ]
  },
  {
   "cell_type": "code",
   "execution_count": 65,
   "metadata": {
    "collapsed": true
   },
   "outputs": [],
   "source": [
    "#select q-values for chosen actions\n",
    "predicted_qvalues_for_actions = predicted_qvalues[T.arange(actions.shape[0]), actions]"
   ]
  },
  {
   "cell_type": "markdown",
   "metadata": {},
   "source": [
    "#### Loss function and `update`\n",
    "Here we write a function similar to `agent.update`."
   ]
  },
  {
   "cell_type": "code",
   "execution_count": 66,
   "metadata": {
    "collapsed": true
   },
   "outputs": [],
   "source": [
    "#predict q-values for next states\n",
    "predicted_next_qvalues = get_output(l_qvalues, {l_states:next_states})\n",
    "\n",
    "\n",
    "#Computing target q-values under \n",
    "gamma = 0.99\n",
    "#target_qvalues_for_actions = <target Q-values using rewards and predicted_next_qvalues>\n",
    "target_qvalues_for_actions = rewards + gamma*T.max(predicted_next_qvalues, axis=1)\n",
    "\n",
    "#zero-out q-values at the end\n",
    "target_qvalues_for_actions = (1-is_end)*target_qvalues_for_actions\n",
    "\n",
    "#don't compute gradient over target q-values (consider constant)\n",
    "target_qvalues_for_actions = theano.gradient.disconnected_grad(target_qvalues_for_actions)"
   ]
  },
  {
   "cell_type": "code",
   "execution_count": 67,
   "metadata": {
    "collapsed": true
   },
   "outputs": [],
   "source": [
    "\n",
    "#mean squared error loss function\n",
    "#loss = <mean squared between target_qvalues_for_actions and predicted_qvalues_for_actions>\n",
    "loss = T.mean(lasagne.objectives.squared_error(predicted_qvalues_for_actions, target_qvalues_for_actions))\n"
   ]
  },
  {
   "cell_type": "code",
   "execution_count": 68,
   "metadata": {
    "collapsed": true
   },
   "outputs": [],
   "source": [
    "#all network weights\n",
    "all_weights = get_all_params(l_qvalues, trainable=True)\n",
    "\n",
    "#network updates. Note the small learning rate (for stability)\n",
    "updates = lasagne.updates.sgd(loss,all_weights,learning_rate=1e-4)"
   ]
  },
  {
   "cell_type": "code",
   "execution_count": 69,
   "metadata": {
    "collapsed": true
   },
   "outputs": [],
   "source": [
    "#Training function that resembles agent.update(state,action,reward,next_state) \n",
    "#with 1 more argument meaning is_end\n",
    "train_step = theano.function([current_states,actions,rewards,next_states,is_end],\n",
    "                             updates=updates)"
   ]
  },
  {
   "cell_type": "markdown",
   "metadata": {},
   "source": [
    "### Playing the game"
   ]
  },
  {
   "cell_type": "code",
   "execution_count": 70,
   "metadata": {
    "collapsed": true
   },
   "outputs": [],
   "source": [
    "epsilon = 0.25 #initial epsilon\n",
    "\n",
    "def generate_session(t_max=1000):\n",
    "    \"\"\"play env with approximate q-learning agent and train it at the same time\"\"\"\n",
    "    \n",
    "    total_reward = 0\n",
    "    s = env.reset()\n",
    "    \n",
    "    for t in range(t_max):\n",
    "        \n",
    "        #get action q-values from the network\n",
    "        q_values = get_qvalues([s])[0] \n",
    "        \n",
    "        #a = <sample action with epsilon-greedy strategy>\n",
    "        val = np.random.random()\n",
    "        if val < epsilon:\n",
    "            a = np.random.randint(n_actions)\n",
    "        else:\n",
    "            a = np.argmax(q_values)\n",
    "        \n",
    "        new_s,r,done,info = env.step(a)\n",
    "        \n",
    "        #train agent one step. Note that we use one-element arrays instead of scalars \n",
    "        #because that's what function accepts.\n",
    "        train_step([s],[a],[r],[new_s],[done])\n",
    "        \n",
    "        total_reward += r\n",
    "        \n",
    "        s = new_s\n",
    "        if done: break\n",
    "            \n",
    "    return total_reward\n",
    "        "
   ]
  },
  {
   "cell_type": "code",
   "execution_count": 72,
   "metadata": {
    "scrolled": true
   },
   "outputs": [
    {
     "name": "stdout",
     "output_type": "stream",
     "text": [
      "mean reward:183.300\tepsilon:0.00141\n",
      "mean reward:186.860\tepsilon:0.00134\n",
      "mean reward:165.020\tepsilon:0.00127\n",
      "mean reward:200.000\tepsilon:0.00121\n",
      "mean reward:180.380\tepsilon:0.00115\n",
      "mean reward:196.330\tepsilon:0.00109\n",
      "mean reward:196.270\tepsilon:0.00103\n",
      "mean reward:184.610\tepsilon:0.00098\n",
      "mean reward:159.290\tepsilon:0.00093\n",
      "mean reward:168.370\tepsilon:0.00089\n",
      "mean reward:193.700\tepsilon:0.00084\n",
      "mean reward:95.060\tepsilon:0.00080\n",
      "mean reward:11.440\tepsilon:0.00076\n",
      "mean reward:12.070\tepsilon:0.00072\n",
      "mean reward:13.730\tepsilon:0.00069\n",
      "mean reward:12.090\tepsilon:0.00065\n",
      "mean reward:11.720\tepsilon:0.00062\n",
      "mean reward:11.440\tepsilon:0.00059\n",
      "mean reward:11.270\tepsilon:0.00056\n",
      "mean reward:11.390\tepsilon:0.00053\n",
      "mean reward:11.920\tepsilon:0.00050\n",
      "mean reward:12.540\tepsilon:0.00048\n",
      "mean reward:11.890\tepsilon:0.00045\n",
      "mean reward:15.110\tepsilon:0.00043\n",
      "mean reward:13.790\tepsilon:0.00041\n",
      "mean reward:13.680\tepsilon:0.00039\n",
      "mean reward:15.520\tepsilon:0.00037\n",
      "mean reward:20.760\tepsilon:0.00035\n",
      "mean reward:26.190\tepsilon:0.00033\n",
      "mean reward:110.860\tepsilon:0.00032\n",
      "mean reward:189.370\tepsilon:0.00030\n",
      "mean reward:171.990\tepsilon:0.00029\n",
      "mean reward:195.310\tepsilon:0.00027\n",
      "mean reward:199.890\tepsilon:0.00026\n",
      "mean reward:179.980\tepsilon:0.00025\n",
      "mean reward:200.000\tepsilon:0.00023\n",
      "mean reward:195.170\tepsilon:0.00022\n",
      "mean reward:196.510\tepsilon:0.00021\n",
      "mean reward:178.430\tepsilon:0.00020\n",
      "mean reward:194.870\tepsilon:0.00019\n",
      "mean reward:187.720\tepsilon:0.00018\n",
      "mean reward:198.140\tepsilon:0.00017\n",
      "mean reward:200.000\tepsilon:0.00016\n",
      "mean reward:171.540\tepsilon:0.00015\n",
      "mean reward:175.200\tepsilon:0.00015\n",
      "mean reward:144.450\tepsilon:0.00014\n",
      "mean reward:76.440\tepsilon:0.00013\n",
      "mean reward:198.120\tepsilon:0.00013\n",
      "mean reward:196.200\tepsilon:0.00012\n",
      "mean reward:200.000\tepsilon:0.00011\n",
      "mean reward:178.780\tepsilon:0.00011\n",
      "mean reward:187.210\tepsilon:0.00010\n",
      "mean reward:200.000\tepsilon:0.00010\n",
      "mean reward:195.620\tepsilon:0.00009\n",
      "mean reward:189.800\tepsilon:0.00009\n",
      "mean reward:143.180\tepsilon:0.00008\n",
      "mean reward:200.000\tepsilon:0.00008\n",
      "mean reward:193.090\tepsilon:0.00008\n",
      "mean reward:152.050\tepsilon:0.00007\n",
      "mean reward:150.010\tepsilon:0.00007\n",
      "mean reward:53.700\tepsilon:0.00006\n",
      "mean reward:34.890\tepsilon:0.00006\n",
      "mean reward:33.560\tepsilon:0.00006\n",
      "mean reward:49.130\tepsilon:0.00006\n",
      "mean reward:142.480\tepsilon:0.00005\n",
      "mean reward:194.090\tepsilon:0.00005\n",
      "mean reward:190.920\tepsilon:0.00005\n",
      "mean reward:200.000\tepsilon:0.00005\n",
      "mean reward:200.000\tepsilon:0.00004\n",
      "mean reward:200.000\tepsilon:0.00004\n",
      "mean reward:198.110\tepsilon:0.00004\n",
      "mean reward:200.000\tepsilon:0.00004\n",
      "mean reward:200.000\tepsilon:0.00004\n",
      "mean reward:200.000\tepsilon:0.00003\n",
      "mean reward:200.000\tepsilon:0.00003\n",
      "mean reward:200.000\tepsilon:0.00003\n",
      "mean reward:200.000\tepsilon:0.00003\n",
      "mean reward:184.830\tepsilon:0.00003\n",
      "mean reward:156.860\tepsilon:0.00003\n",
      "mean reward:139.150\tepsilon:0.00002\n",
      "mean reward:179.580\tepsilon:0.00002\n",
      "mean reward:200.000\tepsilon:0.00002\n",
      "mean reward:181.280\tepsilon:0.00002\n",
      "mean reward:196.490\tepsilon:0.00002\n",
      "mean reward:170.880\tepsilon:0.00002\n",
      "mean reward:189.190\tepsilon:0.00002\n",
      "mean reward:187.950\tepsilon:0.00002\n",
      "mean reward:185.250\tepsilon:0.00002\n",
      "mean reward:167.660\tepsilon:0.00002\n",
      "mean reward:198.840\tepsilon:0.00001\n",
      "mean reward:200.000\tepsilon:0.00001\n",
      "mean reward:178.550\tepsilon:0.00001\n",
      "mean reward:177.640\tepsilon:0.00001\n",
      "mean reward:128.800\tepsilon:0.00001\n",
      "mean reward:177.990\tepsilon:0.00001\n",
      "mean reward:188.070\tepsilon:0.00001\n",
      "mean reward:51.470\tepsilon:0.00001\n",
      "mean reward:194.110\tepsilon:0.00001\n",
      "mean reward:143.680\tepsilon:0.00001\n",
      "mean reward:200.000\tepsilon:0.00001\n"
     ]
    }
   ],
   "source": [
    "for i in range(100):\n",
    "    \n",
    "    rewards = [generate_session() for _ in range(100)] #generate new sessions\n",
    "    \n",
    "    epsilon*=0.95\n",
    "    \n",
    "    print (\"mean reward:%.3f\\tepsilon:%.5f\"%(np.mean(rewards),epsilon))\n",
    "\n",
    "    if np.mean(rewards) > 300:\n",
    "        print (\"You Win!\")\n",
    "        break\n",
    "        \n",
    "    assert epsilon != 0, \"Please explore environment\""
   ]
  },
  {
   "cell_type": "markdown",
   "metadata": {},
   "source": [
    "### Video"
   ]
  },
  {
   "cell_type": "code",
   "execution_count": 73,
   "metadata": {
    "collapsed": true
   },
   "outputs": [],
   "source": [
    "epsilon = 0 #Don't forget to reset epsilon back to initial value if you want to go on training"
   ]
  },
  {
   "cell_type": "code",
   "execution_count": 74,
   "metadata": {},
   "outputs": [
    {
     "name": "stderr",
     "output_type": "stream",
     "text": [
      "[2017-09-21 22:26:29,995] Clearing 6 monitor files from previous run (because force=True was provided)\n",
      "[2017-09-21 22:26:29,999] Starting new video recorder writing to C:\\Users\\1\\Documents\\RL_practice\\Practical_RL\\week3.5\\videos\\openaigym.video.2.7964.video000000.mp4\n",
      "[2017-09-21 22:26:33,646] Starting new video recorder writing to C:\\Users\\1\\Documents\\RL_practice\\Practical_RL\\week3.5\\videos\\openaigym.video.2.7964.video000001.mp4\n",
      "[2017-09-21 22:26:37,381] Starting new video recorder writing to C:\\Users\\1\\Documents\\RL_practice\\Practical_RL\\week3.5\\videos\\openaigym.video.2.7964.video000008.mp4\n",
      "[2017-09-21 22:26:41,817] Starting new video recorder writing to C:\\Users\\1\\Documents\\RL_practice\\Practical_RL\\week3.5\\videos\\openaigym.video.2.7964.video000027.mp4\n",
      "[2017-09-21 22:26:47,063] Starting new video recorder writing to C:\\Users\\1\\Documents\\RL_practice\\Practical_RL\\week3.5\\videos\\openaigym.video.2.7964.video000064.mp4\n",
      "[2017-09-21 22:26:52,332] Finished writing results. You can upload them to the scoreboard via gym.upload('C:\\\\Users\\\\1\\\\Documents\\\\RL_practice\\\\Practical_RL\\\\week3.5\\\\videos')\n"
     ]
    }
   ],
   "source": [
    "#record sessions\n",
    "import gym.wrappers\n",
    "env = gym.wrappers.Monitor(env,directory=\"videos\",force=True)\n",
    "sessions = [generate_session() for _ in range(100)]\n",
    "env.close()\n",
    "#unwrap \n",
    "env = env.env.env\n",
    "#upload to gym\n",
    "#gym.upload(\"./videos/\",api_key=\"<your_api_key>\") #you'll need me later\n",
    "\n",
    "#Warning! If you keep seeing error that reads something like\"DoubleWrapError\",\n",
    "#run env=gym.make(\"CartPole-v0\");env.reset();"
   ]
  },
  {
   "cell_type": "code",
   "execution_count": 75,
   "metadata": {},
   "outputs": [
    {
     "data": {
      "text/html": [
       "\n",
       "<video width=\"640\" height=\"480\" controls>\n",
       "  <source src=\"./videos/openaigym.video.2.7964.video000064.mp4\" type=\"video/mp4\">\n",
       "</video>\n"
      ],
      "text/plain": [
       "<IPython.core.display.HTML object>"
      ]
     },
     "execution_count": 75,
     "metadata": {},
     "output_type": "execute_result"
    }
   ],
   "source": [
    "#show video\n",
    "from IPython.display import HTML\n",
    "import os\n",
    "\n",
    "video_names = list(filter(lambda s:s.endswith(\".mp4\"),os.listdir(\"./videos/\")))\n",
    "\n",
    "HTML(\"\"\"\n",
    "<video width=\"640\" height=\"480\" controls>\n",
    "  <source src=\"{}\" type=\"video/mp4\">\n",
    "</video>\n",
    "\"\"\".format(\"./videos/\"+video_names[-1])) #this may or may not be _last_ video. Try other indices"
   ]
  },
  {
   "cell_type": "markdown",
   "metadata": {
    "collapsed": true
   },
   "source": [
    "### Homework\n",
    "\n",
    "Two paths lie ahead of you, and which one to take is a rightfull choice of yours.\n",
    "\n",
    "* __[recommended]__ Go deeper. Return to seminar1 and get 99% accuracy on MNIST\n",
    "* __[alternative]__ Try approximate expected-value SARSA and other algorithms and compare it with q-learning \n",
    "  * +3 points for EV-SARSA and comparison to Q-learning\n",
    "  * +2 per additional algorithm\n",
    "* __[alternative hard]__ Pick ```<your favourite env>``` and solve it, using NN.\n",
    " * LunarLander, MountainCar or Breakout (from week1 bonus)\n",
    " * LunarLander should get at least +100\n",
    " * MountainCar should get at least -200\n",
    " * You will need to somehow stabilize learning\n",
    "   \n"
   ]
  },
  {
   "cell_type": "code",
   "execution_count": null,
   "metadata": {
    "collapsed": true
   },
   "outputs": [],
   "source": []
  }
 ],
 "metadata": {
  "kernelspec": {
   "display_name": "RL_kernel",
   "language": "python",
   "name": "rl_practice"
  },
  "language_info": {
   "codemirror_mode": {
    "name": "ipython",
    "version": 3
   },
   "file_extension": ".py",
   "mimetype": "text/x-python",
   "name": "python",
   "nbconvert_exporter": "python",
   "pygments_lexer": "ipython3",
   "version": "3.5.4"
  }
 },
 "nbformat": 4,
 "nbformat_minor": 1
}
