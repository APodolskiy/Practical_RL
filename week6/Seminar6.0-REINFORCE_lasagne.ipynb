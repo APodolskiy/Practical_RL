{
 "cells": [
  {
   "cell_type": "markdown",
   "metadata": {},
   "source": [
    "# REINFORCE in lasagne (3 pts)\n",
    "\n",
    "Just like we did before for q-learning, this time we'll design a lasagne network to learn `CartPole-v0` via policy gradient (REINFORCE).\n",
    "\n",
    "Most of the code in this notebook is taken from Seminar4.0, so you'll find it more or less familiar and even simpler."
   ]
  },
  {
   "cell_type": "markdown",
   "metadata": {},
   "source": [
    "__Frameworks__ - we'll accept this homework in any deep learning framework. For example, it translates to TensorFlow almost line-to-line. However, we recommend you to stick to theano/lasagne unless you're certain about your skills in the framework of your choice."
   ]
  },
  {
   "cell_type": "code",
   "execution_count": 1,
   "metadata": {},
   "outputs": [
    {
     "name": "stdout",
     "output_type": "stream",
     "text": [
      "env: THEANO_FLAGS='floatX=float32'\n"
     ]
    }
   ],
   "source": [
    "%env THEANO_FLAGS='floatX=float32'\n",
    "import os\n",
    "if type(os.environ.get(\"DISPLAY\")) is not str or len(os.environ.get(\"DISPLAY\"))==0:\n",
    "    !bash ../xvfb start\n",
    "    %env DISPLAY=:1"
   ]
  },
  {
   "cell_type": "code",
   "execution_count": 2,
   "metadata": {},
   "outputs": [
    {
     "name": "stderr",
     "output_type": "stream",
     "text": [
      "[2017-11-07 21:22:01,223] Making new env: CartPole-v0\n"
     ]
    },
    {
     "data": {
      "text/plain": [
       "<matplotlib.image.AxesImage at 0xad36208>"
      ]
     },
     "execution_count": 2,
     "metadata": {},
     "output_type": "execute_result"
    },
    {
     "data": {
      "image/png": "[encoded data removed]",
      "text/plain": [
       "<matplotlib.figure.Figure at 0xa908860>"
      ]
     },
     "metadata": {},
     "output_type": "display_data"
    }
   ],
   "source": [
    "import gym\n",
    "import numpy as np, pandas as pd\n",
    "import matplotlib.pyplot as plt\n",
    "%matplotlib inline\n",
    "\n",
    "env = gym.make(\"CartPole-v0\")\n",
    "env = env.env\n",
    "env.reset()\n",
    "n_actions = env.action_space.n\n",
    "state_dim = env.observation_space.shape\n",
    "\n",
    "plt.imshow(env.render(\"rgb_array\"))"
   ]
  },
  {
   "cell_type": "markdown",
   "metadata": {},
   "source": [
    "# Building the network for REINFORCE"
   ]
  },
  {
   "cell_type": "markdown",
   "metadata": {},
   "source": [
    "For REINFORCE algorithm, we'll need a model that predicts action probabilities given states."
   ]
  },
  {
   "cell_type": "code",
   "execution_count": 3,
   "metadata": {
    "collapsed": true
   },
   "outputs": [],
   "source": [
    "import theano\n",
    "import theano.tensor as T\n",
    "\n",
    "#create input variables. We'll support multiple states at once\n",
    "\n",
    "states = T.matrix(\"states[batch,units]\")\n",
    "actions = T.ivector(\"action_ids[batch]\")\n",
    "cumulative_rewards = T.vector(\"R[batch] = r + gamma*r' + gamma^2*r'' + ...\")"
   ]
  },
  {
   "cell_type": "code",
   "execution_count": 4,
   "metadata": {
    "collapsed": true
   },
   "outputs": [],
   "source": [
    "import lasagne\n",
    "from lasagne.layers import *"
   ]
  },
  {
   "cell_type": "code",
   "execution_count": 5,
   "metadata": {
    "collapsed": true
   },
   "outputs": [],
   "source": [
    "#input layer\n",
    "l_states = InputLayer((None,) + state_dim, input_var=states)\n",
    "\n",
    "\n",
    "dense_1 = DenseLayer(l_states, num_units=30, nonlinearity=lasagne.nonlinearities.rectify)\n",
    "\n",
    "dense_2 = DenseLayer(dense_1, num_units=40, nonlinearity=lasagne.nonlinearities.rectify)\n",
    "\n",
    "#output layer\n",
    "#this time we need to predict action probabilities,\n",
    "#so make sure your nonlinearity forces p>0 and sum_p = 1\n",
    "l_action_probas = DenseLayer(dense_2,\n",
    "                             num_units=n_actions,\n",
    "                             nonlinearity=lasagne.nonlinearities.softmax)"
   ]
  },
  {
   "cell_type": "markdown",
   "metadata": {},
   "source": [
    "#### Predict function"
   ]
  },
  {
   "cell_type": "code",
   "execution_count": 6,
   "metadata": {
    "collapsed": true
   },
   "outputs": [],
   "source": [
    "#get probabilities of actions\n",
    "predicted_probas = get_output(l_action_probas)\n",
    "\n",
    "#predict action probability given state\n",
    "#if you use float32, set allow_input_downcast=True\n",
    "predict_proba = theano.function([states],\n",
    "                                predicted_probas)"
   ]
  },
  {
   "cell_type": "markdown",
   "metadata": {},
   "source": [
    "#### Loss function and updates\n",
    "\n",
    "We now need to define objective and update over policy gradient.\n",
    "\n",
    "The objective function can be defined thusly:\n",
    "\n",
    "$$ J \\approx \\sum  _i log \\pi_\\theta (a_i | s_i) \\cdot R(s_i,a_i) $$\n",
    "\n",
    "When you compute gradient of that function over network weights $ \\theta $, it will become exactly the policy gradient.\n"
   ]
  },
  {
   "cell_type": "code",
   "execution_count": 7,
   "metadata": {
    "collapsed": true
   },
   "outputs": [],
   "source": [
    "#select probabilities for chosen actions, pi(a_i|s_i)\n",
    "# batch_size = actions.shape[0]\n",
    "predicted_probas_for_actions = predicted_probas[T.arange(actions.shape[0]), actions] # number of batches and selected action"
   ]
  },
  {
   "cell_type": "code",
   "execution_count": 8,
   "metadata": {
    "collapsed": true
   },
   "outputs": [],
   "source": [
    "#REINFORCE objective function\n",
    "J = T.mean(T.log(predicted_probas_for_actions)*cumulative_rewards)\n"
   ]
  },
  {
   "cell_type": "code",
   "execution_count": 8,
   "metadata": {
    "collapsed": true
   },
   "outputs": [],
   "source": [
    "neg_H = T.mean(T.sum(predicted_probas*T.log(predicted_probas), axis=-1))"
   ]
  },
  {
   "cell_type": "code",
   "execution_count": 9,
   "metadata": {
    "collapsed": true
   },
   "outputs": [],
   "source": [
    "#all network weights\n",
    "all_weights = lasagne.layers.get_all_params(l_action_probas)\n",
    "\n",
    "#weight updates. maximize J = minimize -J\n",
    "updates = lasagne.updates.sgd(-J, all_weights, learning_rate=0.001)"
   ]
  },
  {
   "cell_type": "code",
   "execution_count": 10,
   "metadata": {
    "collapsed": true
   },
   "outputs": [],
   "source": [
    "# with entropy\n",
    "beta = 0.01\n",
    "updates = lasagne.updates.sgd(-J + neg_H*beta, all_weights, learning_rate=0.001)"
   ]
  },
  {
   "cell_type": "code",
   "execution_count": 10,
   "metadata": {
    "collapsed": true
   },
   "outputs": [],
   "source": [
    "train_step = theano.function([states,actions,cumulative_rewards],\n",
    "                              updates=updates,\n",
    "                              allow_input_downcast=True)"
   ]
  },
  {
   "cell_type": "markdown",
   "metadata": {},
   "source": [
    "### Computing cumulative rewards"
   ]
  },
  {
   "cell_type": "code",
   "execution_count": 11,
   "metadata": {
    "collapsed": true
   },
   "outputs": [],
   "source": [
    "def get_cumulative_rewards(rewards, #rewards at each step\n",
    "                           gamma = 0.99 #discount for reward\n",
    "                           ):\n",
    "    \"\"\"\n",
    "    take a list of immediate rewards r(s,a) for the whole session \n",
    "    compute cumulative rewards R(s,a) (a.k.a. G(s,a) in Sutton '16)\n",
    "    R_t = r_t + gamma*r_{t+1} + gamma^2*r_{t+2} + ...\n",
    "    \n",
    "    The simple way to compute cumulative rewards is to iterate from last to first time tick\n",
    "    and compute R_t = r_t + gamma*R_{t+1} recurrently\n",
    "    \n",
    "    You must return an array/list of cumulative rewards with as many elements as in the initial rewards.\n",
    "    \"\"\"\n",
    "    \n",
    "    cum_rewards = np.zeros(len(rewards))\n",
    "    cur_sum = 0\n",
    "    for idx, reward in enumerate(rewards[-1::-1]):\n",
    "        cur_sum = cur_sum*gamma + reward\n",
    "        cum_rewards[idx] = cur_sum\n",
    "        \n",
    "    return cum_rewards[-1::-1]\n",
    "    \n",
    "    \n",
    "    "
   ]
  },
  {
   "cell_type": "code",
   "execution_count": 12,
   "metadata": {},
   "outputs": [
    {
     "name": "stdout",
     "output_type": "stream",
     "text": [
      "looks good!\n"
     ]
    }
   ],
   "source": [
    "assert len(get_cumulative_rewards(range(100))) == 100\n",
    "assert np.allclose(get_cumulative_rewards([0,0,1,0,0,1,0],gamma=0.9),[1.40049, 1.5561, 1.729, 0.81, 0.9, 1.0, 0.0])\n",
    "assert np.allclose(get_cumulative_rewards([0,0,1,-2,3,-4,0],gamma=0.5), [0.0625, 0.125, 0.25, -1.5, 1.0, -4.0, 0.0])\n",
    "assert np.allclose(get_cumulative_rewards([0,0,1,2,3,4,0],gamma=0), [0, 0, 1, 2, 3, 4, 0])\n",
    "print(\"looks good!\")"
   ]
  },
  {
   "cell_type": "markdown",
   "metadata": {},
   "source": [
    "### Playing the game"
   ]
  },
  {
   "cell_type": "code",
   "execution_count": 13,
   "metadata": {
    "collapsed": true
   },
   "outputs": [],
   "source": [
    "def generate_session(t_max=1000):\n",
    "    \"\"\"play env with REINFORCE agent and train at the session end\"\"\"\n",
    "    \n",
    "    #arrays to record session\n",
    "    states,actions,rewards = [],[],[]\n",
    "    \n",
    "    s = env.reset()\n",
    "    \n",
    "    for t in range(t_max):\n",
    "        \n",
    "        #action probabilities array aka pi(a|s)\n",
    "        action_probas = predict_proba([s])[0] \n",
    "        \n",
    "        a = np.random.choice(range(n_actions), p=action_probas)\n",
    "        \n",
    "        new_s,r,done,info = env.step(a)\n",
    "        \n",
    "        #record session history to train later\n",
    "        states.append(s)\n",
    "        actions.append(a)\n",
    "        rewards.append(r)\n",
    "        \n",
    "        s = new_s\n",
    "        if done: break\n",
    "            \n",
    "    cumulative_rewards = get_cumulative_rewards(rewards)\n",
    "    train_step(states, actions, cumulative_rewards)\n",
    "            \n",
    "    return sum(rewards)\n",
    "        "
   ]
  },
  {
   "cell_type": "code",
   "execution_count": 14,
   "metadata": {
    "scrolled": true
   },
   "outputs": [
    {
     "name": "stdout",
     "output_type": "stream",
     "text": [
      "mean reward:23.540\n",
      "mean reward:26.980\n",
      "mean reward:27.200\n",
      "mean reward:27.270\n",
      "mean reward:29.440\n",
      "mean reward:32.430\n",
      "mean reward:28.260\n",
      "mean reward:28.490\n",
      "mean reward:30.790\n",
      "mean reward:33.310\n",
      "mean reward:35.890\n",
      "mean reward:33.870\n",
      "mean reward:30.490\n",
      "mean reward:32.230\n",
      "mean reward:40.750\n",
      "mean reward:41.070\n",
      "mean reward:37.180\n",
      "mean reward:40.980\n",
      "mean reward:44.000\n",
      "mean reward:44.070\n",
      "mean reward:48.040\n",
      "mean reward:47.660\n",
      "mean reward:44.780\n",
      "mean reward:45.190\n",
      "mean reward:48.500\n",
      "mean reward:48.560\n",
      "mean reward:55.730\n",
      "mean reward:58.670\n",
      "mean reward:60.290\n",
      "mean reward:45.860\n",
      "mean reward:62.240\n",
      "mean reward:64.130\n",
      "mean reward:75.920\n",
      "mean reward:77.310\n",
      "mean reward:83.860\n",
      "mean reward:98.980\n",
      "mean reward:87.060\n",
      "mean reward:111.970\n",
      "mean reward:148.800\n",
      "mean reward:109.880\n",
      "mean reward:150.180\n",
      "mean reward:162.580\n",
      "mean reward:176.910\n",
      "mean reward:183.290\n",
      "mean reward:174.500\n",
      "mean reward:203.360\n",
      "mean reward:200.260\n",
      "mean reward:168.460\n",
      "mean reward:206.370\n",
      "mean reward:192.580\n",
      "mean reward:249.410\n",
      "mean reward:219.440\n",
      "mean reward:218.700\n",
      "mean reward:120.750\n",
      "mean reward:156.320\n",
      "mean reward:160.390\n",
      "mean reward:104.860\n",
      "mean reward:159.700\n",
      "mean reward:168.560\n",
      "mean reward:171.280\n",
      "mean reward:147.180\n",
      "mean reward:102.140\n",
      "mean reward:223.680\n",
      "mean reward:123.300\n",
      "mean reward:86.620\n",
      "mean reward:137.930\n",
      "mean reward:270.650\n",
      "mean reward:188.890\n",
      "mean reward:138.300\n",
      "mean reward:191.960\n",
      "mean reward:171.120\n",
      "mean reward:121.610\n",
      "mean reward:242.890\n",
      "mean reward:240.080\n",
      "mean reward:289.690\n",
      "mean reward:290.590\n",
      "mean reward:189.570\n",
      "mean reward:145.370\n",
      "mean reward:298.510\n",
      "mean reward:220.560\n",
      "mean reward:375.880\n",
      "You Win!\n"
     ]
    }
   ],
   "source": [
    "for i in range(100):\n",
    "    \n",
    "    rewards = [generate_session() for _ in range(100)] #generate new sessions\n",
    "    \n",
    "    print (\"mean reward:%.3f\"%(np.mean(rewards)))\n",
    "\n",
    "    if np.mean(rewards) > 300:\n",
    "        print (\"You Win!\")\n",
    "        break\n",
    "        \n"
   ]
  },
  {
   "cell_type": "markdown",
   "metadata": {},
   "source": [
    "### Video"
   ]
  },
  {
   "cell_type": "code",
   "execution_count": 15,
   "metadata": {},
   "outputs": [
    {
     "name": "stderr",
     "output_type": "stream",
     "text": [
      "[2017-11-07 21:35:28,713] Making new env: CartPole-v0\n",
      "[2017-11-07 21:35:28,718] Clearing 4 monitor files from previous run (because force=True was provided)\n",
      "[2017-11-07 21:35:28,724] Starting new video recorder writing to C:\\Users\\1\\Documents\\RL_practice\\Practical_RL\\week6\\videos\\openaigym.video.0.1252.video000000.mp4\n",
      "[2017-11-07 21:35:34,177] Starting new video recorder writing to C:\\Users\\1\\Documents\\RL_practice\\Practical_RL\\week6\\videos\\openaigym.video.0.1252.video000001.mp4\n",
      "[2017-11-07 21:35:37,861] Starting new video recorder writing to C:\\Users\\1\\Documents\\RL_practice\\Practical_RL\\week6\\videos\\openaigym.video.0.1252.video000008.mp4\n",
      "[2017-11-07 21:35:41,689] Starting new video recorder writing to C:\\Users\\1\\Documents\\RL_practice\\Practical_RL\\week6\\videos\\openaigym.video.0.1252.video000027.mp4\n",
      "[2017-11-07 21:35:45,891] Starting new video recorder writing to C:\\Users\\1\\Documents\\RL_practice\\Practical_RL\\week6\\videos\\openaigym.video.0.1252.video000064.mp4\n",
      "[2017-11-07 21:35:49,573] Finished writing results. You can upload them to the scoreboard via gym.upload('C:\\\\Users\\\\1\\\\Documents\\\\RL_practice\\\\Practical_RL\\\\week6\\\\videos')\n"
     ]
    }
   ],
   "source": [
    "#record sessions\n",
    "import gym.wrappers\n",
    "env = gym.wrappers.Monitor(gym.make(\"CartPole-v0\"),directory=\"videos\",force=True)\n",
    "sessions = [generate_session() for _ in range(100)]\n",
    "env.close()\n"
   ]
  },
  {
   "cell_type": "code",
   "execution_count": 16,
   "metadata": {},
   "outputs": [
    {
     "data": {
      "text/html": [
       "\n",
       "<video width=\"640\" height=\"480\" controls>\n",
       "  <source src=\"./videos/openaigym.video.0.1252.video000064.mp4\" type=\"video/mp4\">\n",
       "</video>\n"
      ],
      "text/plain": [
       "<IPython.core.display.HTML object>"
      ]
     },
     "execution_count": 16,
     "metadata": {},
     "output_type": "execute_result"
    }
   ],
   "source": [
    "#show video\n",
    "from IPython.display import HTML\n",
    "import os\n",
    "\n",
    "video_names = list(filter(lambda s:s.endswith(\".mp4\"),os.listdir(\"./videos/\")))\n",
    "\n",
    "HTML(\"\"\"\n",
    "<video width=\"640\" height=\"480\" controls>\n",
    "  <source src=\"{}\" type=\"video/mp4\">\n",
    "</video>\n",
    "\"\"\".format(\"./videos/\"+video_names[-1])) #this may or may not be _last_ video. Try other indices"
   ]
  },
  {
   "cell_type": "code",
   "execution_count": null,
   "metadata": {
    "collapsed": true
   },
   "outputs": [],
   "source": []
  }
 ],
 "metadata": {
  "kernelspec": {
   "display_name": "RL_kernel",
   "language": "python",
   "name": "rl_practice"
  },
  "language_info": {
   "codemirror_mode": {
    "name": "ipython",
    "version": 3
   },
   "file_extension": ".py",
   "mimetype": "text/x-python",
   "name": "python",
   "nbconvert_exporter": "python",
   "pygments_lexer": "ipython3",
   "version": "3.5.4"
  }
 },
 "nbformat": 4,
 "nbformat_minor": 1
}
