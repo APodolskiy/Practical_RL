{
 "cells": [
  {
   "cell_type": "markdown",
   "metadata": {},
   "source": [
    "# Simple q-learning agent with experience replay\n",
    "\n",
    "We re-write q-learning algorithm using _agentnet_ - a helper for lasagne that implements some RL techniques."
   ]
  },
  {
   "cell_type": "code",
   "execution_count": null,
   "metadata": {},
   "outputs": [],
   "source": [
    "import matplotlib.pyplot as plt\n",
    "%matplotlib inline\n",
    "import numpy as np\n",
    "%env THEANO_FLAGS='floatX=float32'\n",
    "\n",
    "#XVFB will be launched if you run on a server\n",
    "import os\n",
    "if type(os.environ.get(\"DISPLAY\")) is not str or len(os.environ.get(\"DISPLAY\"))==0:\n",
    "    !bash ../xvfb start\n",
    "    %env DISPLAY=:1"
   ]
  },
  {
   "cell_type": "code",
   "execution_count": 1,
   "metadata": {
    "collapsed": true
   },
   "outputs": [],
   "source": [
    "import matplotlib.pyplot as plt\n",
    "%matplotlib inline\n",
    "import numpy as np"
   ]
  },
  {
   "cell_type": "markdown",
   "metadata": {},
   "source": [
    "### Experiment setup\n",
    "* Here we simply load the game and check that it works"
   ]
  },
  {
   "cell_type": "code",
   "execution_count": 2,
   "metadata": {},
   "outputs": [
    {
     "name": "stderr",
     "output_type": "stream",
     "text": [
      "[2017-09-23 19:09:29,932] Making new env: Acrobot-v1\n"
     ]
    }
   ],
   "source": [
    "import gym\n",
    "make_env = lambda: gym.make(\"Acrobot-v1\")\n",
    "\n",
    "env=make_env()\n",
    "env.reset()\n",
    "\n",
    "state_shape = env.observation_space.shape\n",
    "n_actions = env.action_space.n"
   ]
  },
  {
   "cell_type": "code",
   "execution_count": 3,
   "metadata": {},
   "outputs": [
    {
     "data": {
      "image/png": "[encoded data removed]",
      "text/plain": [
       "<matplotlib.figure.Figure at 0x7b5f860>"
      ]
     },
     "metadata": {},
     "output_type": "display_data"
    }
   ],
   "source": [
    "plt.imshow(env.render(\"rgb_array\"))\n",
    "del env"
   ]
  },
  {
   "cell_type": "code",
   "execution_count": 5,
   "metadata": {},
   "outputs": [
    {
     "data": {
      "text/plain": [
       "((6,), 3)"
      ]
     },
     "execution_count": 5,
     "metadata": {},
     "output_type": "execute_result"
    }
   ],
   "source": [
    "state_shape, n_actions"
   ]
  },
  {
   "cell_type": "markdown",
   "metadata": {},
   "source": [
    "# Neural Network body"
   ]
  },
  {
   "cell_type": "code",
   "execution_count": 8,
   "metadata": {},
   "outputs": [],
   "source": [
    "import lasagne\n",
    "from lasagne.layers import *\n",
    "from lasagne.nonlinearities import elu\n",
    "\n",
    "\n",
    "#image observation at current tick goes here, shape = (sample_i,x,y,color)\n",
    "observation_layer = InputLayer((None,)+state_shape)\n",
    "\n",
    "dense_1 = DenseLayer(observation_layer, 250, nonlinearity=elu, name=\"dense_1\") \n",
    "dense_2 = DenseLayer(dense_1, 300, nonlinearity=elu, name=\"dense_2\")\n",
    "dense_3 = DenseLayer(dense_2, 150, nonlinearity=elu, name=\"dense_3\")\n",
    "\n",
    "#a layer that predicts Qvalues\n",
    "qvalues_layer = DenseLayer(dense_3,num_units=n_actions,\n",
    "                           nonlinearity=None,name=\"q-values\")"
   ]
  },
  {
   "cell_type": "markdown",
   "metadata": {},
   "source": [
    "Picking actions is done by yet another layer, that implements $ \\epsilon$ -greedy policy"
   ]
  },
  {
   "cell_type": "code",
   "execution_count": 10,
   "metadata": {},
   "outputs": [],
   "source": [
    "from agentnet.resolver import EpsilonGreedyResolver\n",
    "action_layer = EpsilonGreedyResolver(qvalues_layer)\n",
    "\n",
    "#set starting epsilon\n",
    "action_layer.epsilon.set_value(np.float32(0.05))\n"
   ]
  },
  {
   "cell_type": "markdown",
   "metadata": {},
   "source": [
    "### Agent\n",
    "\n",
    "We define an agent entirely composed of a lasagne network:\n",
    "* Observations as InputLayer(s)\n",
    "* Actions as intermediate Layer(s)\n",
    "* `policy_estimators` is \"whatever else you want to keep track of\"\n",
    "\n",
    "Each parameter can be either one layer or a list of layers"
   ]
  },
  {
   "cell_type": "code",
   "execution_count": 12,
   "metadata": {},
   "outputs": [],
   "source": [
    "from agentnet.agent import Agent\n",
    "agent = Agent(observation_layers=observation_layer,\n",
    "              action_layers=action_layer,\n",
    "              policy_estimators=qvalues_layer,)\n"
   ]
  },
  {
   "cell_type": "code",
   "execution_count": 13,
   "metadata": {},
   "outputs": [
    {
     "data": {
      "text/plain": [
       "[dense_1.W,\n",
       " dense_1.b,\n",
       " dense_2.W,\n",
       " dense_2.b,\n",
       " dense_3.W,\n",
       " dense_3.b,\n",
       " q-values.W,\n",
       " q-values.b]"
      ]
     },
     "execution_count": 13,
     "metadata": {},
     "output_type": "execute_result"
    }
   ],
   "source": [
    "#Since it's a single lasagne network, one can get it's weights, output, etc\n",
    "weights = lasagne.layers.get_all_params(action_layer,trainable=True)\n",
    "weights"
   ]
  },
  {
   "cell_type": "markdown",
   "metadata": {},
   "source": [
    "# Create and manage a pool of atari sessions to play with\n",
    "\n",
    "* To make training more stable, we shall have an entire batch of game sessions each happening independent of others\n",
    "* Why several parallel agents help training: http://arxiv.org/pdf/1602.01783v1.pdf\n",
    "* Alternative approach: store more sessions: https://www.cs.toronto.edu/~vmnih/docs/dqn.pdf"
   ]
  },
  {
   "cell_type": "code",
   "execution_count": 14,
   "metadata": {},
   "outputs": [
    {
     "name": "stderr",
     "output_type": "stream",
     "text": [
      "[2017-09-23 19:37:21,043] Making new env: Acrobot-v1\n"
     ]
    }
   ],
   "source": [
    "from agentnet.experiments.openai_gym.pool import EnvPool\n",
    "pool = EnvPool(agent,make_env,n_games=1,max_size=10000)"
   ]
  },
  {
   "cell_type": "code",
   "execution_count": 15,
   "metadata": {},
   "outputs": [
    {
     "name": "stdout",
     "output_type": "stream",
     "text": [
      "actions: [[1 1 2 1 0]]\n",
      "rewards: [[-1. -1. -1. -1.  0.]]\n",
      "Wall time: 589 ms\n"
     ]
    }
   ],
   "source": [
    "%%time\n",
    "#interact for 7 ticks\n",
    "obs_log,action_log,reward_log,_,_,_  = pool.interact(5)\n",
    "\n",
    "\n",
    "print('actions:',action_log)\n",
    "print('rewards:',reward_log)"
   ]
  },
  {
   "cell_type": "code",
   "execution_count": 17,
   "metadata": {},
   "outputs": [],
   "source": [
    "#we'll train on rollouts of 10 steps (required by n-step algorithms and rnns later)\n",
    "SEQ_LENGTH=10\n",
    "\n",
    "#load first sessions (this function calls interact and stores sessions in the pool)\n",
    "\n",
    "for _ in range(100):\n",
    "    pool.update(SEQ_LENGTH, append=True)"
   ]
  },
  {
   "cell_type": "markdown",
   "metadata": {},
   "source": [
    "# q-learning\n",
    "\n",
    "We shall now define a function that replays recent game sessions and updates network weights"
   ]
  },
  {
   "cell_type": "code",
   "execution_count": 19,
   "metadata": {},
   "outputs": [],
   "source": [
    "#get agent's Qvalues obtained via experience replay\n",
    "replay = pool.experience_replay.sample_session_batch(100)\n",
    "qvalues_seq = agent.get_sessions(\n",
    "    replay,\n",
    "    session_length=SEQ_LENGTH,\n",
    "    experience_replay=True,\n",
    ")[-1]\n",
    "\n"
   ]
  },
  {
   "cell_type": "code",
   "execution_count": 21,
   "metadata": {},
   "outputs": [
    {
     "data": {
      "text/plain": [
       "(100, 10, 3)"
      ]
     },
     "execution_count": 21,
     "metadata": {},
     "output_type": "execute_result"
    }
   ],
   "source": [
    "qvalues_seq.eval().shape"
   ]
  },
  {
   "cell_type": "code",
   "execution_count": 20,
   "metadata": {
    "scrolled": true
   },
   "outputs": [
    {
     "data": {
      "text/plain": [
       "array([[1, 1, 1, 1, 1, 1, 1, 1, 1, 2],\n",
       "       [1, 1, 1, 1, 1, 1, 1, 1, 1, 0],\n",
       "       [1, 1, 1, 1, 1, 1, 1, 1, 1, 0],\n",
       "       [1, 1, 1, 1, 1, 1, 1, 1, 1, 2],\n",
       "       [1, 0, 1, 1, 1, 1, 1, 1, 1, 0],\n",
       "       [1, 1, 1, 1, 1, 1, 1, 1, 1, 0],\n",
       "       [1, 1, 1, 1, 1, 1, 1, 1, 1, 2],\n",
       "       [1, 1, 1, 1, 1, 1, 1, 1, 1, 0],\n",
       "       [1, 1, 1, 1, 1, 1, 2, 1, 1, 1],\n",
       "       [1, 1, 1, 1, 1, 1, 1, 1, 1, 2],\n",
       "       [1, 1, 1, 1, 1, 1, 1, 1, 1, 1],\n",
       "       [1, 1, 1, 1, 1, 1, 1, 1, 1, 0],\n",
       "       [1, 1, 1, 1, 0, 1, 1, 1, 2, 0],\n",
       "       [1, 1, 1, 1, 1, 1, 1, 1, 1, 1],\n",
       "       [1, 1, 1, 1, 1, 1, 1, 1, 1, 0],\n",
       "       [1, 1, 0, 1, 1, 1, 2, 1, 1, 0],\n",
       "       [1, 1, 1, 1, 1, 1, 2, 1, 1, 2],\n",
       "       [1, 1, 1, 1, 1, 1, 1, 1, 1, 2],\n",
       "       [1, 1, 1, 1, 1, 1, 1, 1, 1, 2],\n",
       "       [2, 1, 1, 1, 1, 1, 1, 1, 1, 0],\n",
       "       [1, 1, 1, 1, 1, 1, 1, 1, 1, 0],\n",
       "       [1, 1, 1, 1, 1, 1, 1, 1, 1, 0],\n",
       "       [1, 1, 1, 1, 1, 1, 2, 1, 1, 2],\n",
       "       [1, 1, 1, 1, 2, 1, 1, 1, 1, 2],\n",
       "       [1, 1, 1, 1, 1, 1, 1, 1, 1, 1],\n",
       "       [1, 1, 1, 1, 1, 1, 1, 1, 1, 1],\n",
       "       [1, 1, 1, 1, 1, 1, 1, 1, 1, 0],\n",
       "       [1, 1, 1, 1, 1, 1, 1, 1, 1, 0],\n",
       "       [1, 1, 1, 1, 1, 1, 1, 1, 1, 0],\n",
       "       [1, 2, 1, 1, 0, 1, 1, 1, 1, 2],\n",
       "       [1, 1, 1, 1, 1, 1, 1, 1, 1, 1],\n",
       "       [1, 1, 1, 1, 1, 1, 1, 1, 1, 1],\n",
       "       [1, 1, 1, 1, 1, 1, 1, 1, 1, 2],\n",
       "       [1, 1, 1, 1, 1, 1, 1, 1, 1, 2],\n",
       "       [1, 1, 1, 1, 1, 1, 1, 1, 1, 1],\n",
       "       [1, 1, 1, 1, 1, 1, 1, 1, 1, 0],\n",
       "       [1, 1, 1, 1, 1, 2, 1, 1, 1, 0],\n",
       "       [1, 1, 1, 1, 1, 1, 1, 1, 1, 0],\n",
       "       [2, 1, 1, 1, 1, 1, 1, 1, 1, 2],\n",
       "       [1, 1, 1, 1, 1, 1, 1, 1, 1, 1],\n",
       "       [1, 0, 1, 1, 1, 1, 1, 1, 1, 0],\n",
       "       [1, 1, 1, 1, 1, 1, 1, 1, 1, 2],\n",
       "       [1, 1, 1, 1, 1, 1, 1, 1, 1, 2],\n",
       "       [1, 1, 1, 1, 1, 1, 1, 1, 1, 2],\n",
       "       [1, 1, 1, 1, 1, 1, 1, 1, 1, 1],\n",
       "       [1, 1, 1, 1, 1, 1, 1, 1, 1, 1],\n",
       "       [1, 1, 1, 1, 1, 1, 1, 1, 1, 2],\n",
       "       [2, 2, 2, 1, 1, 1, 1, 1, 1, 0],\n",
       "       [1, 1, 1, 1, 1, 1, 1, 1, 1, 0],\n",
       "       [1, 1, 1, 1, 2, 1, 1, 1, 1, 1],\n",
       "       [1, 1, 1, 1, 1, 1, 1, 1, 1, 2],\n",
       "       [1, 1, 1, 1, 1, 1, 1, 1, 1, 0],\n",
       "       [1, 1, 1, 1, 1, 1, 1, 1, 1, 2],\n",
       "       [1, 1, 1, 1, 1, 1, 1, 1, 2, 1],\n",
       "       [1, 1, 1, 1, 1, 1, 1, 1, 1, 2],\n",
       "       [1, 1, 0, 1, 1, 1, 1, 1, 1, 1],\n",
       "       [1, 1, 1, 0, 1, 1, 1, 1, 1, 2],\n",
       "       [1, 1, 1, 1, 1, 1, 1, 1, 1, 0],\n",
       "       [1, 1, 1, 1, 1, 1, 1, 1, 1, 1],\n",
       "       [1, 1, 1, 1, 1, 1, 1, 2, 1, 1],\n",
       "       [1, 1, 1, 1, 1, 1, 1, 1, 1, 0],\n",
       "       [1, 1, 1, 1, 1, 1, 1, 1, 1, 1],\n",
       "       [1, 1, 1, 1, 1, 1, 1, 1, 1, 0],\n",
       "       [1, 1, 1, 1, 0, 1, 1, 1, 1, 1],\n",
       "       [1, 1, 1, 1, 1, 1, 1, 1, 1, 1],\n",
       "       [1, 1, 1, 1, 1, 1, 1, 1, 1, 2],\n",
       "       [1, 1, 1, 1, 1, 0, 1, 1, 1, 2],\n",
       "       [1, 1, 1, 1, 1, 1, 1, 1, 1, 0],\n",
       "       [1, 1, 1, 1, 1, 1, 1, 1, 1, 2],\n",
       "       [1, 1, 1, 2, 2, 1, 1, 1, 1, 0],\n",
       "       [1, 1, 1, 1, 1, 1, 1, 1, 1, 0],\n",
       "       [1, 1, 1, 1, 1, 1, 1, 1, 1, 1],\n",
       "       [1, 1, 1, 1, 1, 1, 1, 1, 1, 0],\n",
       "       [2, 1, 1, 1, 1, 1, 1, 1, 1, 2],\n",
       "       [1, 1, 1, 1, 1, 1, 0, 1, 1, 2],\n",
       "       [1, 1, 1, 1, 1, 1, 1, 1, 1, 2],\n",
       "       [1, 1, 1, 1, 1, 1, 1, 1, 1, 0],\n",
       "       [1, 1, 1, 1, 1, 1, 1, 1, 1, 1],\n",
       "       [1, 1, 1, 1, 1, 1, 1, 1, 1, 2],\n",
       "       [1, 1, 1, 1, 1, 1, 1, 1, 1, 2],\n",
       "       [1, 1, 1, 1, 1, 1, 1, 1, 1, 1],\n",
       "       [1, 1, 1, 1, 1, 1, 1, 1, 1, 2],\n",
       "       [1, 1, 1, 1, 1, 1, 2, 1, 1, 2],\n",
       "       [1, 1, 1, 1, 1, 1, 1, 1, 1, 1],\n",
       "       [1, 1, 1, 1, 1, 1, 1, 1, 1, 0],\n",
       "       [1, 1, 1, 1, 1, 1, 1, 1, 1, 0],\n",
       "       [1, 1, 1, 1, 1, 1, 1, 1, 0, 0],\n",
       "       [1, 1, 1, 1, 1, 1, 1, 1, 1, 0],\n",
       "       [1, 2, 1, 1, 1, 1, 1, 1, 1, 1],\n",
       "       [1, 1, 1, 1, 1, 1, 1, 1, 1, 2],\n",
       "       [1, 1, 1, 1, 1, 1, 1, 1, 1, 2],\n",
       "       [1, 1, 1, 1, 1, 1, 1, 1, 1, 1],\n",
       "       [1, 1, 1, 1, 2, 1, 1, 1, 1, 1],\n",
       "       [1, 1, 1, 1, 1, 1, 1, 1, 1, 2],\n",
       "       [1, 1, 1, 1, 1, 1, 1, 1, 1, 1],\n",
       "       [1, 1, 1, 1, 1, 1, 1, 1, 1, 0],\n",
       "       [1, 1, 0, 1, 1, 1, 2, 1, 1, 1],\n",
       "       [1, 1, 1, 1, 1, 1, 1, 1, 1, 1],\n",
       "       [1, 1, 1, 1, 1, 1, 1, 1, 1, 2],\n",
       "       [1, 1, 1, 1, 1, 1, 1, 1, 1, 1]])"
      ]
     },
     "execution_count": 20,
     "metadata": {},
     "output_type": "execute_result"
    }
   ],
   "source": [
    "replay.actions[0].eval()"
   ]
  },
  {
   "cell_type": "code",
   "execution_count": 22,
   "metadata": {},
   "outputs": [],
   "source": [
    "#loss for Qlearning = (Q(s,a) - (r+gamma*Q(s',a_max)))^2, like you implemented before in lasagne.\n",
    "\n",
    "from agentnet.learning import qlearning\n",
    "elwise_mse_loss = qlearning.get_elementwise_objective(qvalues_seq,\n",
    "                                                      replay.actions[0],\n",
    "                                                      replay.rewards,\n",
    "                                                      replay.is_alive,\n",
    "                                                      gamma_or_gammas=0.99,\n",
    "                                                      n_steps=1,)\n",
    "\n",
    "#compute mean loss over \"alive\" fragments\n",
    "loss = elwise_mse_loss.sum() / replay.is_alive.sum()"
   ]
  },
  {
   "cell_type": "code",
   "execution_count": 23,
   "metadata": {},
   "outputs": [],
   "source": [
    "#get weight updates\n",
    "updates = lasagne.updates.adam(loss,weights,learning_rate=1e-4)\n",
    "\n",
    "#compile train function\n",
    "import theano\n",
    "train_step = theano.function([],loss,updates=updates)"
   ]
  },
  {
   "cell_type": "markdown",
   "metadata": {},
   "source": [
    "# Demo run\n",
    "\n",
    "Play full session with an untrained agent"
   ]
  },
  {
   "cell_type": "code",
   "execution_count": 24,
   "metadata": {},
   "outputs": [
    {
     "name": "stderr",
     "output_type": "stream",
     "text": [
      "[2017-09-23 20:05:04,816] Making new env: Acrobot-v1\n",
      "[2017-09-23 20:05:04,821] Creating monitor directory ./records\n",
      "[2017-09-23 20:05:04,827] Starting new video recorder writing to C:\\Users\\1\\Documents\\RL_practice\\Practical_RL\\week4\\records\\openaigym.video.0.7388.video000000.mp4\n",
      "[2017-09-23 20:05:14,837] Finished writing results. You can upload them to the scoreboard via gym.upload('C:\\\\Users\\\\1\\\\Documents\\\\RL_practice\\\\Practical_RL\\\\week4\\\\records')\n"
     ]
    },
    {
     "name": "stdout",
     "output_type": "stream",
     "text": [
      "Episode finished after 500 timesteps with reward=-500.0\n"
     ]
    }
   ],
   "source": [
    "#for MountainCar-v0 evaluation session is cropped to 200 ticks\n",
    "untrained_reward = pool.evaluate(save_path=\"./records\",record_video=True)"
   ]
  },
  {
   "cell_type": "code",
   "execution_count": 25,
   "metadata": {},
   "outputs": [
    {
     "data": {
      "text/html": [
       "\n",
       "<video width=\"640\" height=\"480\" controls>\n",
       "  <source src=\"./records/openaigym.video.0.7388.video000000.mp4\" type=\"video/mp4\">\n",
       "</video>\n"
      ],
      "text/plain": [
       "<IPython.core.display.HTML object>"
      ]
     },
     "execution_count": 25,
     "metadata": {},
     "output_type": "execute_result"
    }
   ],
   "source": [
    "#show video\n",
    "from IPython.display import HTML\n",
    "import os\n",
    "\n",
    "video_names = list(filter(lambda s:s.endswith(\".mp4\"),os.listdir(\"./records/\")))\n",
    "\n",
    "HTML(\"\"\"\n",
    "<video width=\"640\" height=\"480\" controls>\n",
    "  <source src=\"{}\" type=\"video/mp4\">\n",
    "</video>\n",
    "\"\"\".format(\"./records/\"+video_names[-1])) #this may or may not be _last_ video. Try other indices"
   ]
  },
  {
   "cell_type": "markdown",
   "metadata": {},
   "source": [
    "# Training loop"
   ]
  },
  {
   "cell_type": "code",
   "execution_count": 26,
   "metadata": {
    "collapsed": true
   },
   "outputs": [],
   "source": [
    "epoch_counter = 1 #starting epoch\n",
    "rewards = {} #full game rewards\n",
    "target_score = -90"
   ]
  },
  {
   "cell_type": "code",
   "execution_count": 27,
   "metadata": {
    "scrolled": true
   },
   "outputs": [
    {
     "name": "stderr",
     "output_type": "stream",
     "text": [
      "  1%|▍                                      | 99/10000 [00:13<20:39,  7.99it/s][2017-09-23 20:10:33,792] Making new env: Acrobot-v1\n",
      "[2017-09-23 20:10:33,794] Clearing 4 monitor files from previous run (because force=True was provided)\n"
     ]
    },
    {
     "name": "stdout",
     "output_type": "stream",
     "text": [
      "Episode finished after 500 timesteps with reward=-500.0\n",
      "Episode finished after 500 timesteps with reward=-500.0\n",
      "Episode finished after 500 timesteps with reward=-500.0\n"
     ]
    },
    {
     "name": "stderr",
     "output_type": "stream",
     "text": [
      "[2017-09-23 20:10:34,634] Finished writing results. You can upload them to the scoreboard via gym.upload('C:\\\\Users\\\\1\\\\Documents\\\\RL_practice\\\\Practical_RL\\\\week4\\\\records')\n"
     ]
    },
    {
     "name": "stdout",
     "output_type": "stream",
     "text": [
      "iter=100\tepsilon=0.910\n",
      "Current score(mean over 3) = -500.000\n"
     ]
    },
    {
     "name": "stderr",
     "output_type": "stream",
     "text": [
      "  2%|▊                                     | 199/10000 [00:27<21:13,  7.70it/s][2017-09-23 20:10:47,856] Making new env: Acrobot-v1\n",
      "[2017-09-23 20:10:47,858] Clearing 2 monitor files from previous run (because force=True was provided)\n"
     ]
    },
    {
     "name": "stdout",
     "output_type": "stream",
     "text": [
      "Episode finished after 229 timesteps with reward=-228.0\n",
      "Episode finished after 500 timesteps with reward=-500.0\n",
      "Episode finished after 500 timesteps with reward=-500.0\n"
     ]
    },
    {
     "name": "stderr",
     "output_type": "stream",
     "text": [
      "[2017-09-23 20:10:48,538] Finished writing results. You can upload them to the scoreboard via gym.upload('C:\\\\Users\\\\1\\\\Documents\\\\RL_practice\\\\Practical_RL\\\\week4\\\\records')\n"
     ]
    },
    {
     "name": "stdout",
     "output_type": "stream",
     "text": [
      "iter=200\tepsilon=0.828\n",
      "Current score(mean over 3) = -409.333\n"
     ]
    },
    {
     "name": "stderr",
     "output_type": "stream",
     "text": [
      "  3%|█▏                                    | 299/10000 [00:41<21:42,  7.45it/s][2017-09-23 20:11:01,745] Making new env: Acrobot-v1\n",
      "[2017-09-23 20:11:01,747] Clearing 2 monitor files from previous run (because force=True was provided)\n"
     ]
    },
    {
     "name": "stdout",
     "output_type": "stream",
     "text": [
      "Episode finished after 500 timesteps with reward=-500.0\n",
      "Episode finished after 500 timesteps with reward=-500.0\n",
      "Episode finished after 500 timesteps with reward=-500.0\n"
     ]
    },
    {
     "name": "stderr",
     "output_type": "stream",
     "text": [
      "[2017-09-23 20:11:02,587] Finished writing results. You can upload them to the scoreboard via gym.upload('C:\\\\Users\\\\1\\\\Documents\\\\RL_practice\\\\Practical_RL\\\\week4\\\\records')\n"
     ]
    },
    {
     "name": "stdout",
     "output_type": "stream",
     "text": [
      "iter=300\tepsilon=0.754\n",
      "Current score(mean over 3) = -500.000\n"
     ]
    },
    {
     "name": "stderr",
     "output_type": "stream",
     "text": [
      "  4%|█▌                                    | 399/10000 [00:55<21:38,  7.40it/s][2017-09-23 20:11:15,914] Making new env: Acrobot-v1\n",
      "[2017-09-23 20:11:15,916] Clearing 2 monitor files from previous run (because force=True was provided)\n"
     ]
    },
    {
     "name": "stdout",
     "output_type": "stream",
     "text": [
      "Episode finished after 500 timesteps with reward=-500.0\n",
      "Episode finished after 386 timesteps with reward=-385.0\n",
      "Episode finished after 500 timesteps with reward=-500.0\n"
     ]
    },
    {
     "name": "stderr",
     "output_type": "stream",
     "text": [
      "[2017-09-23 20:11:16,661] Finished writing results. You can upload them to the scoreboard via gym.upload('C:\\\\Users\\\\1\\\\Documents\\\\RL_practice\\\\Practical_RL\\\\week4\\\\records')\n"
     ]
    },
    {
     "name": "stdout",
     "output_type": "stream",
     "text": [
      "iter=400\tepsilon=0.687\n",
      "Current score(mean over 3) = -461.667\n"
     ]
    },
    {
     "name": "stderr",
     "output_type": "stream",
     "text": [
      "  5%|█▉                                    | 499/10000 [01:10<23:08,  6.84it/s][2017-09-23 20:11:30,919] Making new env: Acrobot-v1\n",
      "[2017-09-23 20:11:30,923] Clearing 2 monitor files from previous run (because force=True was provided)\n"
     ]
    },
    {
     "name": "stdout",
     "output_type": "stream",
     "text": [
      "Episode finished after 307 timesteps with reward=-306.0\n",
      "Episode finished after 266 timesteps with reward=-265.0\n",
      "Episode finished after 226 timesteps with reward=-225.0\n"
     ]
    },
    {
     "name": "stderr",
     "output_type": "stream",
     "text": [
      "[2017-09-23 20:11:31,373] Finished writing results. You can upload them to the scoreboard via gym.upload('C:\\\\Users\\\\1\\\\Documents\\\\RL_practice\\\\Practical_RL\\\\week4\\\\records')\n"
     ]
    },
    {
     "name": "stdout",
     "output_type": "stream",
     "text": [
      "iter=500\tepsilon=0.626\n",
      "Current score(mean over 3) = -265.333\n"
     ]
    },
    {
     "name": "stderr",
     "output_type": "stream",
     "text": [
      "  6%|██▎                                   | 599/10000 [01:25<21:52,  7.16it/s][2017-09-23 20:11:45,941] Making new env: Acrobot-v1\n",
      "[2017-09-23 20:11:45,951] Clearing 2 monitor files from previous run (because force=True was provided)\n"
     ]
    },
    {
     "name": "stdout",
     "output_type": "stream",
     "text": [
      "Episode finished after 341 timesteps with reward=-340.0\n",
      "Episode finished after 500 timesteps with reward=-500.0\n",
      "Episode finished after 500 timesteps with reward=-500.0\n"
     ]
    },
    {
     "name": "stderr",
     "output_type": "stream",
     "text": [
      "[2017-09-23 20:11:46,672] Finished writing results. You can upload them to the scoreboard via gym.upload('C:\\\\Users\\\\1\\\\Documents\\\\RL_practice\\\\Practical_RL\\\\week4\\\\records')\n"
     ]
    },
    {
     "name": "stdout",
     "output_type": "stream",
     "text": [
      "iter=600\tepsilon=0.571\n",
      "Current score(mean over 3) = -446.667\n"
     ]
    },
    {
     "name": "stderr",
     "output_type": "stream",
     "text": [
      "  7%|██▋                                   | 699/10000 [01:41<22:34,  6.87it/s][2017-09-23 20:12:01,781] Making new env: Acrobot-v1\n",
      "[2017-09-23 20:12:01,783] Clearing 2 monitor files from previous run (because force=True was provided)\n"
     ]
    },
    {
     "name": "stdout",
     "output_type": "stream",
     "text": [
      "Episode finished after 131 timesteps with reward=-130.0\n",
      "Episode finished after 172 timesteps with reward=-171.0\n",
      "Episode finished after 147 timesteps with reward=-146.0\n"
     ]
    },
    {
     "name": "stderr",
     "output_type": "stream",
     "text": [
      "[2017-09-23 20:12:02,072] Finished writing results. You can upload them to the scoreboard via gym.upload('C:\\\\Users\\\\1\\\\Documents\\\\RL_practice\\\\Practical_RL\\\\week4\\\\records')\n"
     ]
    },
    {
     "name": "stdout",
     "output_type": "stream",
     "text": [
      "iter=700\tepsilon=0.522\n",
      "Current score(mean over 3) = -149.000\n"
     ]
    },
    {
     "name": "stderr",
     "output_type": "stream",
     "text": [
      "  8%|███                                   | 799/10000 [01:56<23:11,  6.61it/s][2017-09-23 20:12:16,999] Making new env: Acrobot-v1\n",
      "[2017-09-23 20:12:17,004] Clearing 2 monitor files from previous run (because force=True was provided)\n"
     ]
    },
    {
     "name": "stdout",
     "output_type": "stream",
     "text": [
      "Episode finished after 471 timesteps with reward=-470.0\n",
      "Episode finished after 157 timesteps with reward=-156.0\n",
      "Episode finished after 308 timesteps with reward=-307.0\n"
     ]
    },
    {
     "name": "stderr",
     "output_type": "stream",
     "text": [
      "[2017-09-23 20:12:17,545] Finished writing results. You can upload them to the scoreboard via gym.upload('C:\\\\Users\\\\1\\\\Documents\\\\RL_practice\\\\Practical_RL\\\\week4\\\\records')\n"
     ]
    },
    {
     "name": "stdout",
     "output_type": "stream",
     "text": [
      "iter=800\tepsilon=0.477\n",
      "Current score(mean over 3) = -311.000\n"
     ]
    },
    {
     "name": "stderr",
     "output_type": "stream",
     "text": [
      "  9%|███▍                                  | 899/10000 [02:12<27:28,  5.52it/s][2017-09-23 20:12:33,364] Making new env: Acrobot-v1\n",
      "[2017-09-23 20:12:33,369] Clearing 2 monitor files from previous run (because force=True was provided)\n"
     ]
    },
    {
     "name": "stdout",
     "output_type": "stream",
     "text": [
      "Episode finished after 210 timesteps with reward=-209.0\n",
      "Episode finished after 204 timesteps with reward=-203.0\n",
      "Episode finished after 150 timesteps with reward=-149.0\n"
     ]
    },
    {
     "name": "stderr",
     "output_type": "stream",
     "text": [
      "[2017-09-23 20:12:33,772] Finished writing results. You can upload them to the scoreboard via gym.upload('C:\\\\Users\\\\1\\\\Documents\\\\RL_practice\\\\Practical_RL\\\\week4\\\\records')\n"
     ]
    },
    {
     "name": "stdout",
     "output_type": "stream",
     "text": [
      "iter=900\tepsilon=0.436\n",
      "Current score(mean over 3) = -187.000\n"
     ]
    },
    {
     "name": "stderr",
     "output_type": "stream",
     "text": [
      " 10%|███▊                                  | 999/10000 [02:28<25:04,  5.98it/s][2017-09-23 20:12:49,310] Making new env: Acrobot-v1\n",
      "[2017-09-23 20:12:49,317] Clearing 2 monitor files from previous run (because force=True was provided)\n"
     ]
    },
    {
     "name": "stdout",
     "output_type": "stream",
     "text": [
      "Episode finished after 174 timesteps with reward=-173.0\n",
      "Episode finished after 208 timesteps with reward=-207.0\n",
      "Episode finished after 183 timesteps with reward=-182.0\n"
     ]
    },
    {
     "name": "stderr",
     "output_type": "stream",
     "text": [
      "[2017-09-23 20:12:49,758] Finished writing results. You can upload them to the scoreboard via gym.upload('C:\\\\Users\\\\1\\\\Documents\\\\RL_practice\\\\Practical_RL\\\\week4\\\\records')\n"
     ]
    },
    {
     "name": "stdout",
     "output_type": "stream",
     "text": [
      "iter=1000\tepsilon=0.399\n",
      "Current score(mean over 3) = -187.333\n"
     ]
    },
    {
     "name": "stderr",
     "output_type": "stream",
     "text": [
      " 11%|████                                 | 1099/10000 [02:45<23:04,  6.43it/s][2017-09-23 20:13:06,055] Making new env: Acrobot-v1\n",
      "[2017-09-23 20:13:06,057] Clearing 2 monitor files from previous run (because force=True was provided)\n"
     ]
    },
    {
     "name": "stdout",
     "output_type": "stream",
     "text": [
      "Episode finished after 225 timesteps with reward=-224.0\n",
      "Episode finished after 500 timesteps with reward=-500.0\n",
      "Episode finished after 146 timesteps with reward=-145.0\n"
     ]
    },
    {
     "name": "stderr",
     "output_type": "stream",
     "text": [
      "[2017-09-23 20:13:06,555] Finished writing results. You can upload them to the scoreboard via gym.upload('C:\\\\Users\\\\1\\\\Documents\\\\RL_practice\\\\Practical_RL\\\\week4\\\\records')\n"
     ]
    },
    {
     "name": "stdout",
     "output_type": "stream",
     "text": [
      "iter=1100\tepsilon=0.366\n",
      "Current score(mean over 3) = -289.667\n"
     ]
    },
    {
     "name": "stderr",
     "output_type": "stream",
     "text": [
      " 12%|████▍                                | 1199/10000 [03:02<23:27,  6.25it/s][2017-09-23 20:13:22,815] Making new env: Acrobot-v1\n",
      "[2017-09-23 20:13:22,819] Clearing 2 monitor files from previous run (because force=True was provided)\n"
     ]
    },
    {
     "name": "stdout",
     "output_type": "stream",
     "text": [
      "Episode finished after 446 timesteps with reward=-445.0\n",
      "Episode finished after 166 timesteps with reward=-165.0\n",
      "Episode finished after 352 timesteps with reward=-351.0\n"
     ]
    },
    {
     "name": "stderr",
     "output_type": "stream",
     "text": [
      "[2017-09-23 20:13:23,370] Finished writing results. You can upload them to the scoreboard via gym.upload('C:\\\\Users\\\\1\\\\Documents\\\\RL_practice\\\\Practical_RL\\\\week4\\\\records')\n"
     ]
    },
    {
     "name": "stdout",
     "output_type": "stream",
     "text": [
      "iter=1200\tepsilon=0.336\n",
      "Current score(mean over 3) = -320.333\n"
     ]
    },
    {
     "name": "stderr",
     "output_type": "stream",
     "text": [
      " 13%|████▊                                | 1299/10000 [03:19<23:35,  6.15it/s][2017-09-23 20:13:39,821] Making new env: Acrobot-v1\n",
      "[2017-09-23 20:13:39,825] Clearing 2 monitor files from previous run (because force=True was provided)\n"
     ]
    },
    {
     "name": "stdout",
     "output_type": "stream",
     "text": [
      "Episode finished after 161 timesteps with reward=-160.0\n",
      "Episode finished after 114 timesteps with reward=-113.0\n",
      "Episode finished after 130 timesteps with reward=-129.0\n"
     ]
    },
    {
     "name": "stderr",
     "output_type": "stream",
     "text": [
      "[2017-09-23 20:13:40,078] Finished writing results. You can upload them to the scoreboard via gym.upload('C:\\\\Users\\\\1\\\\Documents\\\\RL_practice\\\\Practical_RL\\\\week4\\\\records')\n"
     ]
    },
    {
     "name": "stdout",
     "output_type": "stream",
     "text": [
      "iter=1300\tepsilon=0.309\n",
      "Current score(mean over 3) = -134.000\n"
     ]
    },
    {
     "name": "stderr",
     "output_type": "stream",
     "text": [
      " 14%|█████▏                               | 1399/10000 [03:39<23:44,  6.04it/s][2017-09-23 20:13:59,834] Making new env: Acrobot-v1\n",
      "[2017-09-23 20:13:59,838] Clearing 2 monitor files from previous run (because force=True was provided)\n"
     ]
    },
    {
     "name": "stdout",
     "output_type": "stream",
     "text": [
      "Episode finished after 118 timesteps with reward=-117.0\n",
      "Episode finished after 122 timesteps with reward=-121.0\n",
      "Episode finished after 96 timesteps with reward=-95.0\n"
     ]
    },
    {
     "name": "stderr",
     "output_type": "stream",
     "text": [
      "[2017-09-23 20:14:00,054] Finished writing results. You can upload them to the scoreboard via gym.upload('C:\\\\Users\\\\1\\\\Documents\\\\RL_practice\\\\Practical_RL\\\\week4\\\\records')\n"
     ]
    },
    {
     "name": "stdout",
     "output_type": "stream",
     "text": [
      "iter=1400\tepsilon=0.284\n",
      "Current score(mean over 3) = -111.000\n"
     ]
    },
    {
     "name": "stderr",
     "output_type": "stream",
     "text": [
      " 15%|█████▌                               | 1499/10000 [03:55<22:00,  6.44it/s][2017-09-23 20:14:16,052] Making new env: Acrobot-v1\n",
      "[2017-09-23 20:14:16,056] Clearing 2 monitor files from previous run (because force=True was provided)\n"
     ]
    },
    {
     "name": "stdout",
     "output_type": "stream",
     "text": [
      "Episode finished after 272 timesteps with reward=-271.0\n",
      "Episode finished after 157 timesteps with reward=-156.0\n",
      "Episode finished after 156 timesteps with reward=-155.0\n"
     ]
    },
    {
     "name": "stderr",
     "output_type": "stream",
     "text": [
      "[2017-09-23 20:14:16,385] Finished writing results. You can upload them to the scoreboard via gym.upload('C:\\\\Users\\\\1\\\\Documents\\\\RL_practice\\\\Practical_RL\\\\week4\\\\records')\n"
     ]
    },
    {
     "name": "stdout",
     "output_type": "stream",
     "text": [
      "iter=1500\tepsilon=0.262\n",
      "Current score(mean over 3) = -194.000\n"
     ]
    },
    {
     "name": "stderr",
     "output_type": "stream",
     "text": [
      " 16%|█████▉                               | 1599/10000 [04:12<21:45,  6.43it/s][2017-09-23 20:14:33,315] Making new env: Acrobot-v1\n",
      "[2017-09-23 20:14:33,317] Clearing 2 monitor files from previous run (because force=True was provided)\n"
     ]
    },
    {
     "name": "stdout",
     "output_type": "stream",
     "text": [
      "Episode finished after 377 timesteps with reward=-376.0\n",
      "Episode finished after 331 timesteps with reward=-330.0\n",
      "Episode finished after 500 timesteps with reward=-500.0\n"
     ]
    },
    {
     "name": "stderr",
     "output_type": "stream",
     "text": [
      "[2017-09-23 20:14:34,036] Finished writing results. You can upload them to the scoreboard via gym.upload('C:\\\\Users\\\\1\\\\Documents\\\\RL_practice\\\\Practical_RL\\\\week4\\\\records')\n"
     ]
    },
    {
     "name": "stdout",
     "output_type": "stream",
     "text": [
      "iter=1600\tepsilon=0.242\n",
      "Current score(mean over 3) = -402.000\n"
     ]
    },
    {
     "name": "stderr",
     "output_type": "stream",
     "text": [
      " 17%|██████▎                              | 1699/10000 [04:30<22:50,  6.06it/s][2017-09-23 20:14:51,262] Making new env: Acrobot-v1\n",
      "[2017-09-23 20:14:51,264] Clearing 2 monitor files from previous run (because force=True was provided)\n"
     ]
    },
    {
     "name": "stdout",
     "output_type": "stream",
     "text": [
      "Episode finished after 143 timesteps with reward=-142.0\n",
      "Episode finished after 194 timesteps with reward=-193.0\n",
      "Episode finished after 116 timesteps with reward=-115.0\n"
     ]
    },
    {
     "name": "stderr",
     "output_type": "stream",
     "text": [
      "[2017-09-23 20:14:51,521] Finished writing results. You can upload them to the scoreboard via gym.upload('C:\\\\Users\\\\1\\\\Documents\\\\RL_practice\\\\Practical_RL\\\\week4\\\\records')\n"
     ]
    },
    {
     "name": "stdout",
     "output_type": "stream",
     "text": [
      "iter=1700\tepsilon=0.224\n",
      "Current score(mean over 3) = -150.000\n"
     ]
    },
    {
     "name": "stderr",
     "output_type": "stream",
     "text": [
      " 18%|██████▋                              | 1799/10000 [04:48<23:52,  5.73it/s][2017-09-23 20:15:08,855] Making new env: Acrobot-v1\n",
      "[2017-09-23 20:15:08,861] Clearing 2 monitor files from previous run (because force=True was provided)\n"
     ]
    },
    {
     "name": "stdout",
     "output_type": "stream",
     "text": [
      "Episode finished after 125 timesteps with reward=-124.0\n",
      "Episode finished after 102 timesteps with reward=-101.0\n",
      "Episode finished after 84 timesteps with reward=-83.0\n"
     ]
    },
    {
     "name": "stderr",
     "output_type": "stream",
     "text": [
      "[2017-09-23 20:15:09,062] Finished writing results. You can upload them to the scoreboard via gym.upload('C:\\\\Users\\\\1\\\\Documents\\\\RL_practice\\\\Practical_RL\\\\week4\\\\records')\n"
     ]
    },
    {
     "name": "stdout",
     "output_type": "stream",
     "text": [
      "iter=1800\tepsilon=0.207\n",
      "Current score(mean over 3) = -102.667\n"
     ]
    },
    {
     "name": "stderr",
     "output_type": "stream",
     "text": [
      " 19%|███████                              | 1899/10000 [05:06<24:58,  5.41it/s][2017-09-23 20:15:27,396] Making new env: Acrobot-v1\n",
      "[2017-09-23 20:15:27,400] Clearing 2 monitor files from previous run (because force=True was provided)\n"
     ]
    },
    {
     "name": "stdout",
     "output_type": "stream",
     "text": [
      "Episode finished after 206 timesteps with reward=-205.0\n",
      "Episode finished after 136 timesteps with reward=-135.0\n",
      "Episode finished after 127 timesteps with reward=-126.0\n"
     ]
    },
    {
     "name": "stderr",
     "output_type": "stream",
     "text": [
      "[2017-09-23 20:15:27,729] Finished writing results. You can upload them to the scoreboard via gym.upload('C:\\\\Users\\\\1\\\\Documents\\\\RL_practice\\\\Practical_RL\\\\week4\\\\records')\n"
     ]
    },
    {
     "name": "stdout",
     "output_type": "stream",
     "text": [
      "iter=1900\tepsilon=0.192\n",
      "Current score(mean over 3) = -155.333\n"
     ]
    },
    {
     "name": "stderr",
     "output_type": "stream",
     "text": [
      " 20%|███████▍                             | 1999/10000 [05:25<23:43,  5.62it/s][2017-09-23 20:15:45,632] Making new env: Acrobot-v1\n",
      "[2017-09-23 20:15:45,636] Clearing 2 monitor files from previous run (because force=True was provided)\n"
     ]
    },
    {
     "name": "stdout",
     "output_type": "stream",
     "text": [
      "Episode finished after 244 timesteps with reward=-243.0\n",
      "Episode finished after 184 timesteps with reward=-183.0\n",
      "Episode finished after 239 timesteps with reward=-238.0\n"
     ]
    },
    {
     "name": "stderr",
     "output_type": "stream",
     "text": [
      "[2017-09-23 20:15:46,051] Finished writing results. You can upload them to the scoreboard via gym.upload('C:\\\\Users\\\\1\\\\Documents\\\\RL_practice\\\\Practical_RL\\\\week4\\\\records')\n"
     ]
    },
    {
     "name": "stdout",
     "output_type": "stream",
     "text": [
      "iter=2000\tepsilon=0.179\n",
      "Current score(mean over 3) = -221.333\n"
     ]
    },
    {
     "name": "stderr",
     "output_type": "stream",
     "text": [
      " 21%|███████▊                             | 2099/10000 [05:43<23:34,  5.59it/s][2017-09-23 20:16:04,350] Making new env: Acrobot-v1\n",
      "[2017-09-23 20:16:04,352] Clearing 2 monitor files from previous run (because force=True was provided)\n"
     ]
    },
    {
     "name": "stdout",
     "output_type": "stream",
     "text": [
      "Episode finished after 388 timesteps with reward=-387.0\n",
      "Episode finished after 333 timesteps with reward=-332.0\n",
      "Episode finished after 376 timesteps with reward=-375.0\n"
     ]
    },
    {
     "name": "stderr",
     "output_type": "stream",
     "text": [
      "[2017-09-23 20:16:05,066] Finished writing results. You can upload them to the scoreboard via gym.upload('C:\\\\Users\\\\1\\\\Documents\\\\RL_practice\\\\Practical_RL\\\\week4\\\\records')\n"
     ]
    },
    {
     "name": "stdout",
     "output_type": "stream",
     "text": [
      "iter=2100\tepsilon=0.166\n",
      "Current score(mean over 3) = -364.667\n"
     ]
    },
    {
     "name": "stderr",
     "output_type": "stream",
     "text": [
      " 22%|████████▏                            | 2199/10000 [06:04<23:16,  5.59it/s][2017-09-23 20:16:24,870] Making new env: Acrobot-v1\n",
      "[2017-09-23 20:16:24,876] Clearing 2 monitor files from previous run (because force=True was provided)\n"
     ]
    },
    {
     "name": "stdout",
     "output_type": "stream",
     "text": [
      "Episode finished after 500 timesteps with reward=-500.0\n",
      "Episode finished after 304 timesteps with reward=-303.0\n",
      "Episode finished after 239 timesteps with reward=-238.0\n"
     ]
    },
    {
     "name": "stderr",
     "output_type": "stream",
     "text": [
      "[2017-09-23 20:16:25,467] Finished writing results. You can upload them to the scoreboard via gym.upload('C:\\\\Users\\\\1\\\\Documents\\\\RL_practice\\\\Practical_RL\\\\week4\\\\records')\n"
     ]
    },
    {
     "name": "stdout",
     "output_type": "stream",
     "text": [
      "iter=2200\tepsilon=0.155\n",
      "Current score(mean over 3) = -347.000\n"
     ]
    },
    {
     "name": "stderr",
     "output_type": "stream",
     "text": [
      " 23%|████████▌                            | 2299/10000 [06:22<23:52,  5.38it/s][2017-09-23 20:16:43,519] Making new env: Acrobot-v1\n",
      "[2017-09-23 20:16:43,526] Clearing 2 monitor files from previous run (because force=True was provided)\n"
     ]
    },
    {
     "name": "stdout",
     "output_type": "stream",
     "text": [
      "Episode finished after 91 timesteps with reward=-90.0\n",
      "Episode finished after 86 timesteps with reward=-85.0\n",
      "Episode finished after 119 timesteps with reward=-118.0\n"
     ]
    },
    {
     "name": "stderr",
     "output_type": "stream",
     "text": [
      "[2017-09-23 20:16:43,714] Finished writing results. You can upload them to the scoreboard via gym.upload('C:\\\\Users\\\\1\\\\Documents\\\\RL_practice\\\\Practical_RL\\\\week4\\\\records')\n"
     ]
    },
    {
     "name": "stdout",
     "output_type": "stream",
     "text": [
      "iter=2300\tepsilon=0.145\n",
      "Current score(mean over 3) = -97.667\n"
     ]
    },
    {
     "name": "stderr",
     "output_type": "stream",
     "text": [
      " 24%|████████▉                            | 2399/10000 [06:40<22:29,  5.63it/s][2017-09-23 20:17:01,223] Making new env: Acrobot-v1\n",
      "[2017-09-23 20:17:01,228] Clearing 2 monitor files from previous run (because force=True was provided)\n"
     ]
    },
    {
     "name": "stdout",
     "output_type": "stream",
     "text": [
      "Episode finished after 105 timesteps with reward=-104.0\n",
      "Episode finished after 187 timesteps with reward=-186.0\n",
      "Episode finished after 190 timesteps with reward=-189.0\n"
     ]
    },
    {
     "name": "stderr",
     "output_type": "stream",
     "text": [
      "[2017-09-23 20:17:01,513] Finished writing results. You can upload them to the scoreboard via gym.upload('C:\\\\Users\\\\1\\\\Documents\\\\RL_practice\\\\Practical_RL\\\\week4\\\\records')\n"
     ]
    },
    {
     "name": "stdout",
     "output_type": "stream",
     "text": [
      "iter=2400\tepsilon=0.136\n",
      "Current score(mean over 3) = -159.667\n"
     ]
    },
    {
     "name": "stderr",
     "output_type": "stream",
     "text": [
      " 25%|█████████▏                           | 2499/10000 [06:59<21:33,  5.80it/s][2017-09-23 20:17:19,881] Making new env: Acrobot-v1\n",
      "[2017-09-23 20:17:19,885] Clearing 2 monitor files from previous run (because force=True was provided)\n"
     ]
    },
    {
     "name": "stdout",
     "output_type": "stream",
     "text": [
      "Episode finished after 104 timesteps with reward=-103.0\n",
      "Episode finished after 83 timesteps with reward=-82.0\n",
      "Episode finished after 98 timesteps with reward=-97.0\n"
     ]
    },
    {
     "name": "stderr",
     "output_type": "stream",
     "text": [
      "[2017-09-23 20:17:20,059] Finished writing results. You can upload them to the scoreboard via gym.upload('C:\\\\Users\\\\1\\\\Documents\\\\RL_practice\\\\Practical_RL\\\\week4\\\\records')\n"
     ]
    },
    {
     "name": "stdout",
     "output_type": "stream",
     "text": [
      "iter=2500\tepsilon=0.128\n",
      "Current score(mean over 3) = -94.000\n"
     ]
    },
    {
     "name": "stderr",
     "output_type": "stream",
     "text": [
      " 26%|█████████▌                           | 2599/10000 [07:17<22:53,  5.39it/s][2017-09-23 20:17:38,206] Making new env: Acrobot-v1\n",
      "[2017-09-23 20:17:38,209] Clearing 2 monitor files from previous run (because force=True was provided)\n"
     ]
    },
    {
     "name": "stdout",
     "output_type": "stream",
     "text": [
      "Episode finished after 143 timesteps with reward=-142.0\n",
      "Episode finished after 219 timesteps with reward=-218.0\n",
      "Episode finished after 223 timesteps with reward=-222.0\n"
     ]
    },
    {
     "name": "stderr",
     "output_type": "stream",
     "text": [
      "[2017-09-23 20:17:38,576] Finished writing results. You can upload them to the scoreboard via gym.upload('C:\\\\Users\\\\1\\\\Documents\\\\RL_practice\\\\Practical_RL\\\\week4\\\\records')\n"
     ]
    },
    {
     "name": "stdout",
     "output_type": "stream",
     "text": [
      "iter=2600\tepsilon=0.121\n",
      "Current score(mean over 3) = -194.000\n"
     ]
    },
    {
     "name": "stderr",
     "output_type": "stream",
     "text": [
      " 27%|█████████▉                           | 2699/10000 [07:36<23:31,  5.17it/s][2017-09-23 20:17:56,723] Making new env: Acrobot-v1\n",
      "[2017-09-23 20:17:56,727] Clearing 2 monitor files from previous run (because force=True was provided)\n"
     ]
    },
    {
     "name": "stdout",
     "output_type": "stream",
     "text": [
      "Episode finished after 153 timesteps with reward=-152.0\n",
      "Episode finished after 114 timesteps with reward=-113.0\n",
      "Episode finished after 167 timesteps with reward=-166.0\n"
     ]
    },
    {
     "name": "stderr",
     "output_type": "stream",
     "text": [
      "[2017-09-23 20:17:57,060] Finished writing results. You can upload them to the scoreboard via gym.upload('C:\\\\Users\\\\1\\\\Documents\\\\RL_practice\\\\Practical_RL\\\\week4\\\\records')\n"
     ]
    },
    {
     "name": "stdout",
     "output_type": "stream",
     "text": [
      "iter=2700\tepsilon=0.114\n",
      "Current score(mean over 3) = -143.667\n"
     ]
    },
    {
     "name": "stderr",
     "output_type": "stream",
     "text": [
      " 28%|██████████▎                          | 2799/10000 [07:55<23:49,  5.04it/s][2017-09-23 20:18:16,231] Making new env: Acrobot-v1\n",
      "[2017-09-23 20:18:16,248] Clearing 2 monitor files from previous run (because force=True was provided)\n"
     ]
    },
    {
     "name": "stdout",
     "output_type": "stream",
     "text": [
      "Episode finished after 228 timesteps with reward=-227.0\n",
      "Episode finished after 146 timesteps with reward=-145.0\n",
      "Episode finished after 260 timesteps with reward=-259.0\n"
     ]
    },
    {
     "name": "stderr",
     "output_type": "stream",
     "text": [
      "[2017-09-23 20:18:16,662] Finished writing results. You can upload them to the scoreboard via gym.upload('C:\\\\Users\\\\1\\\\Documents\\\\RL_practice\\\\Practical_RL\\\\week4\\\\records')\n"
     ]
    },
    {
     "name": "stdout",
     "output_type": "stream",
     "text": [
      "iter=2800\tepsilon=0.108\n",
      "Current score(mean over 3) = -210.333\n"
     ]
    },
    {
     "name": "stderr",
     "output_type": "stream",
     "text": [
      " 29%|██████████▋                          | 2899/10000 [08:13<20:59,  5.64it/s][2017-09-23 20:18:34,482] Making new env: Acrobot-v1\n",
      "[2017-09-23 20:18:34,488] Clearing 2 monitor files from previous run (because force=True was provided)\n"
     ]
    },
    {
     "name": "stdout",
     "output_type": "stream",
     "text": [
      "Episode finished after 111 timesteps with reward=-110.0\n",
      "Episode finished after 109 timesteps with reward=-108.0\n",
      "Episode finished after 96 timesteps with reward=-95.0\n"
     ]
    },
    {
     "name": "stderr",
     "output_type": "stream",
     "text": [
      "[2017-09-23 20:18:34,704] Finished writing results. You can upload them to the scoreboard via gym.upload('C:\\\\Users\\\\1\\\\Documents\\\\RL_practice\\\\Practical_RL\\\\week4\\\\records')\n"
     ]
    },
    {
     "name": "stdout",
     "output_type": "stream",
     "text": [
      "iter=2900\tepsilon=0.102\n",
      "Current score(mean over 3) = -104.333\n"
     ]
    },
    {
     "name": "stderr",
     "output_type": "stream",
     "text": [
      " 30%|███████████                          | 2999/10000 [08:31<20:16,  5.76it/s][2017-09-23 20:18:52,479] Making new env: Acrobot-v1\n",
      "[2017-09-23 20:18:52,485] Clearing 2 monitor files from previous run (because force=True was provided)\n"
     ]
    },
    {
     "name": "stdout",
     "output_type": "stream",
     "text": [
      "Episode finished after 87 timesteps with reward=-86.0\n",
      "Episode finished after 89 timesteps with reward=-88.0\n",
      "Episode finished after 109 timesteps with reward=-108.0\n"
     ]
    },
    {
     "name": "stderr",
     "output_type": "stream",
     "text": [
      "[2017-09-23 20:18:52,691] Finished writing results. You can upload them to the scoreboard via gym.upload('C:\\\\Users\\\\1\\\\Documents\\\\RL_practice\\\\Practical_RL\\\\week4\\\\records')\n"
     ]
    },
    {
     "name": "stdout",
     "output_type": "stream",
     "text": [
      "iter=3000\tepsilon=0.097\n",
      "Current score(mean over 3) = -94.000\n"
     ]
    },
    {
     "name": "stderr",
     "output_type": "stream",
     "text": [
      " 31%|███████████▍                         | 3099/10000 [08:49<19:05,  6.03it/s][2017-09-23 20:19:09,646] Making new env: Acrobot-v1\n",
      "[2017-09-23 20:19:09,652] Clearing 2 monitor files from previous run (because force=True was provided)\n"
     ]
    },
    {
     "name": "stdout",
     "output_type": "stream",
     "text": [
      "Episode finished after 100 timesteps with reward=-99.0\n",
      "Episode finished after 156 timesteps with reward=-155.0\n",
      "Episode finished after 160 timesteps with reward=-159.0\n"
     ]
    },
    {
     "name": "stderr",
     "output_type": "stream",
     "text": [
      "[2017-09-23 20:19:09,893] Finished writing results. You can upload them to the scoreboard via gym.upload('C:\\\\Users\\\\1\\\\Documents\\\\RL_practice\\\\Practical_RL\\\\week4\\\\records')\n"
     ]
    },
    {
     "name": "stdout",
     "output_type": "stream",
     "text": [
      "iter=3100\tepsilon=0.093\n",
      "Current score(mean over 3) = -137.667\n"
     ]
    },
    {
     "name": "stderr",
     "output_type": "stream",
     "text": [
      " 32%|███████████▊                         | 3199/10000 [09:06<19:03,  5.95it/s][2017-09-23 20:19:26,770] Making new env: Acrobot-v1\n",
      "[2017-09-23 20:19:26,774] Clearing 2 monitor files from previous run (because force=True was provided)\n"
     ]
    },
    {
     "name": "stdout",
     "output_type": "stream",
     "text": [
      "Episode finished after 129 timesteps with reward=-128.0\n",
      "Episode finished after 476 timesteps with reward=-475.0\n",
      "Episode finished after 150 timesteps with reward=-149.0\n"
     ]
    },
    {
     "name": "stderr",
     "output_type": "stream",
     "text": [
      "[2017-09-23 20:19:27,183] Finished writing results. You can upload them to the scoreboard via gym.upload('C:\\\\Users\\\\1\\\\Documents\\\\RL_practice\\\\Practical_RL\\\\week4\\\\records')\n"
     ]
    },
    {
     "name": "stdout",
     "output_type": "stream",
     "text": [
      "iter=3200\tepsilon=0.089\n",
      "Current score(mean over 3) = -250.667\n"
     ]
    },
    {
     "name": "stderr",
     "output_type": "stream",
     "text": [
      " 33%|████████████▏                        | 3299/10000 [09:23<18:19,  6.09it/s][2017-09-23 20:19:44,012] Making new env: Acrobot-v1\n",
      "[2017-09-23 20:19:44,014] Clearing 2 monitor files from previous run (because force=True was provided)\n"
     ]
    },
    {
     "name": "stdout",
     "output_type": "stream",
     "text": [
      "Episode finished after 273 timesteps with reward=-272.0\n",
      "Episode finished after 147 timesteps with reward=-146.0\n",
      "Episode finished after 191 timesteps with reward=-190.0\n"
     ]
    },
    {
     "name": "stderr",
     "output_type": "stream",
     "text": [
      "[2017-09-23 20:19:44,340] Finished writing results. You can upload them to the scoreboard via gym.upload('C:\\\\Users\\\\1\\\\Documents\\\\RL_practice\\\\Practical_RL\\\\week4\\\\records')\n"
     ]
    },
    {
     "name": "stdout",
     "output_type": "stream",
     "text": [
      "iter=3300\tepsilon=0.085\n",
      "Current score(mean over 3) = -202.667\n"
     ]
    },
    {
     "name": "stderr",
     "output_type": "stream",
     "text": [
      " 34%|████████████▌                        | 3399/10000 [09:40<17:51,  6.16it/s][2017-09-23 20:20:00,874] Making new env: Acrobot-v1\n",
      "[2017-09-23 20:20:00,878] Clearing 2 monitor files from previous run (because force=True was provided)\n"
     ]
    },
    {
     "name": "stdout",
     "output_type": "stream",
     "text": [
      "Episode finished after 171 timesteps with reward=-170.0\n",
      "Episode finished after 270 timesteps with reward=-269.0\n",
      "Episode finished after 167 timesteps with reward=-166.0\n"
     ]
    },
    {
     "name": "stderr",
     "output_type": "stream",
     "text": [
      "[2017-09-23 20:20:01,219] Finished writing results. You can upload them to the scoreboard via gym.upload('C:\\\\Users\\\\1\\\\Documents\\\\RL_practice\\\\Practical_RL\\\\week4\\\\records')\n"
     ]
    },
    {
     "name": "stdout",
     "output_type": "stream",
     "text": [
      "iter=3400\tepsilon=0.082\n",
      "Current score(mean over 3) = -201.667\n"
     ]
    },
    {
     "name": "stderr",
     "output_type": "stream",
     "text": [
      " 35%|████████████▉                        | 3499/10000 [09:57<18:05,  5.99it/s][2017-09-23 20:20:18,107] Making new env: Acrobot-v1\n",
      "[2017-09-23 20:20:18,110] Clearing 2 monitor files from previous run (because force=True was provided)\n"
     ]
    },
    {
     "name": "stdout",
     "output_type": "stream",
     "text": [
      "Episode finished after 182 timesteps with reward=-181.0\n",
      "Episode finished after 93 timesteps with reward=-92.0\n",
      "Episode finished after 132 timesteps with reward=-131.0\n"
     ]
    },
    {
     "name": "stderr",
     "output_type": "stream",
     "text": [
      "[2017-09-23 20:20:18,346] Finished writing results. You can upload them to the scoreboard via gym.upload('C:\\\\Users\\\\1\\\\Documents\\\\RL_practice\\\\Practical_RL\\\\week4\\\\records')\n"
     ]
    },
    {
     "name": "stdout",
     "output_type": "stream",
     "text": [
      "iter=3500\tepsilon=0.079\n",
      "Current score(mean over 3) = -134.667\n"
     ]
    },
    {
     "name": "stderr",
     "output_type": "stream",
     "text": [
      " 36%|█████████████▎                       | 3599/10000 [10:14<17:56,  5.95it/s][2017-09-23 20:20:35,122] Making new env: Acrobot-v1\n",
      "[2017-09-23 20:20:35,126] Clearing 2 monitor files from previous run (because force=True was provided)\n"
     ]
    },
    {
     "name": "stdout",
     "output_type": "stream",
     "text": [
      "Episode finished after 222 timesteps with reward=-221.0\n",
      "Episode finished after 226 timesteps with reward=-225.0\n",
      "Episode finished after 197 timesteps with reward=-196.0\n"
     ]
    },
    {
     "name": "stderr",
     "output_type": "stream",
     "text": [
      "[2017-09-23 20:20:35,488] Finished writing results. You can upload them to the scoreboard via gym.upload('C:\\\\Users\\\\1\\\\Documents\\\\RL_practice\\\\Practical_RL\\\\week4\\\\records')\n"
     ]
    },
    {
     "name": "stdout",
     "output_type": "stream",
     "text": [
      "iter=3600\tepsilon=0.076\n",
      "Current score(mean over 3) = -214.000\n"
     ]
    },
    {
     "name": "stderr",
     "output_type": "stream",
     "text": [
      " 37%|█████████████▋                       | 3699/10000 [10:31<16:56,  6.20it/s][2017-09-23 20:20:52,256] Making new env: Acrobot-v1\n",
      "[2017-09-23 20:20:52,258] Clearing 2 monitor files from previous run (because force=True was provided)\n"
     ]
    },
    {
     "name": "stdout",
     "output_type": "stream",
     "text": [
      "Episode finished after 210 timesteps with reward=-209.0\n",
      "Episode finished after 150 timesteps with reward=-149.0\n",
      "Episode finished after 405 timesteps with reward=-404.0\n"
     ]
    },
    {
     "name": "stderr",
     "output_type": "stream",
     "text": [
      "[2017-09-23 20:20:52,656] Finished writing results. You can upload them to the scoreboard via gym.upload('C:\\\\Users\\\\1\\\\Documents\\\\RL_practice\\\\Practical_RL\\\\week4\\\\records')\n"
     ]
    },
    {
     "name": "stdout",
     "output_type": "stream",
     "text": [
      "iter=3700\tepsilon=0.073\n",
      "Current score(mean over 3) = -254.000\n"
     ]
    },
    {
     "name": "stderr",
     "output_type": "stream",
     "text": [
      " 38%|██████████████                       | 3799/10000 [10:48<17:26,  5.92it/s][2017-09-23 20:21:09,338] Making new env: Acrobot-v1\n",
      "[2017-09-23 20:21:09,342] Clearing 2 monitor files from previous run (because force=True was provided)\n"
     ]
    },
    {
     "name": "stdout",
     "output_type": "stream",
     "text": [
      "Episode finished after 150 timesteps with reward=-149.0\n",
      "Episode finished after 148 timesteps with reward=-147.0\n",
      "Episode finished after 142 timesteps with reward=-141.0\n"
     ]
    },
    {
     "name": "stderr",
     "output_type": "stream",
     "text": [
      "[2017-09-23 20:21:09,590] Finished writing results. You can upload them to the scoreboard via gym.upload('C:\\\\Users\\\\1\\\\Documents\\\\RL_practice\\\\Practical_RL\\\\week4\\\\records')\n"
     ]
    },
    {
     "name": "stdout",
     "output_type": "stream",
     "text": [
      "iter=3800\tepsilon=0.071\n",
      "Current score(mean over 3) = -145.667\n"
     ]
    },
    {
     "name": "stderr",
     "output_type": "stream",
     "text": [
      " 39%|██████████████▍                      | 3899/10000 [11:05<16:59,  5.99it/s][2017-09-23 20:21:26,448] Making new env: Acrobot-v1\n",
      "[2017-09-23 20:21:26,450] Clearing 2 monitor files from previous run (because force=True was provided)\n"
     ]
    },
    {
     "name": "stdout",
     "output_type": "stream",
     "text": [
      "Episode finished after 82 timesteps with reward=-81.0\n",
      "Episode finished after 118 timesteps with reward=-117.0\n",
      "Episode finished after 100 timesteps with reward=-99.0\n"
     ]
    },
    {
     "name": "stderr",
     "output_type": "stream",
     "text": [
      "[2017-09-23 20:21:26,620] Finished writing results. You can upload them to the scoreboard via gym.upload('C:\\\\Users\\\\1\\\\Documents\\\\RL_practice\\\\Practical_RL\\\\week4\\\\records')\n"
     ]
    },
    {
     "name": "stdout",
     "output_type": "stream",
     "text": [
      "iter=3900\tepsilon=0.069\n",
      "Current score(mean over 3) = -99.000\n"
     ]
    },
    {
     "name": "stderr",
     "output_type": "stream",
     "text": [
      " 40%|██████████████▊                      | 3999/10000 [11:22<16:33,  6.04it/s][2017-09-23 20:21:43,452] Making new env: Acrobot-v1\n",
      "[2017-09-23 20:21:43,454] Clearing 2 monitor files from previous run (because force=True was provided)\n"
     ]
    },
    {
     "name": "stdout",
     "output_type": "stream",
     "text": [
      "Episode finished after 435 timesteps with reward=-434.0\n",
      "Episode finished after 148 timesteps with reward=-147.0\n",
      "Episode finished after 257 timesteps with reward=-256.0\n"
     ]
    },
    {
     "name": "stderr",
     "output_type": "stream",
     "text": [
      "[2017-09-23 20:21:43,909] Finished writing results. You can upload them to the scoreboard via gym.upload('C:\\\\Users\\\\1\\\\Documents\\\\RL_practice\\\\Practical_RL\\\\week4\\\\records')\n"
     ]
    },
    {
     "name": "stdout",
     "output_type": "stream",
     "text": [
      "iter=4000\tepsilon=0.067\n",
      "Current score(mean over 3) = -279.000\n"
     ]
    },
    {
     "name": "stderr",
     "output_type": "stream",
     "text": [
      " 41%|███████████████▏                     | 4099/10000 [11:39<16:01,  6.14it/s][2017-09-23 20:22:00,474] Making new env: Acrobot-v1\n",
      "[2017-09-23 20:22:00,476] Clearing 2 monitor files from previous run (because force=True was provided)\n"
     ]
    },
    {
     "name": "stdout",
     "output_type": "stream",
     "text": [
      "Episode finished after 115 timesteps with reward=-114.0\n",
      "Episode finished after 100 timesteps with reward=-99.0\n",
      "Episode finished after 75 timesteps with reward=-74.0\n"
     ]
    },
    {
     "name": "stderr",
     "output_type": "stream",
     "text": [
      "[2017-09-23 20:22:00,632] Finished writing results. You can upload them to the scoreboard via gym.upload('C:\\\\Users\\\\1\\\\Documents\\\\RL_practice\\\\Practical_RL\\\\week4\\\\records')\n"
     ]
    },
    {
     "name": "stdout",
     "output_type": "stream",
     "text": [
      "iter=4100\tepsilon=0.066\n",
      "Current score(mean over 3) = -95.667\n"
     ]
    },
    {
     "name": "stderr",
     "output_type": "stream",
     "text": [
      " 42%|███████████████▌                     | 4199/10000 [11:56<15:27,  6.25it/s][2017-09-23 20:22:17,274] Making new env: Acrobot-v1\n",
      "[2017-09-23 20:22:17,280] Clearing 2 monitor files from previous run (because force=True was provided)\n"
     ]
    },
    {
     "name": "stdout",
     "output_type": "stream",
     "text": [
      "Episode finished after 79 timesteps with reward=-78.0\n",
      "Episode finished after 116 timesteps with reward=-115.0\n",
      "Episode finished after 150 timesteps with reward=-149.0\n"
     ]
    },
    {
     "name": "stderr",
     "output_type": "stream",
     "text": [
      "[2017-09-23 20:22:17,490] Finished writing results. You can upload them to the scoreboard via gym.upload('C:\\\\Users\\\\1\\\\Documents\\\\RL_practice\\\\Practical_RL\\\\week4\\\\records')\n"
     ]
    },
    {
     "name": "stdout",
     "output_type": "stream",
     "text": [
      "iter=4200\tepsilon=0.064\n",
      "Current score(mean over 3) = -114.000\n"
     ]
    },
    {
     "name": "stderr",
     "output_type": "stream",
     "text": [
      " 43%|███████████████▉                     | 4299/10000 [12:13<15:57,  5.96it/s][2017-09-23 20:22:34,285] Making new env: Acrobot-v1\n",
      "[2017-09-23 20:22:34,287] Clearing 2 monitor files from previous run (because force=True was provided)\n"
     ]
    },
    {
     "name": "stdout",
     "output_type": "stream",
     "text": [
      "Episode finished after 155 timesteps with reward=-154.0\n",
      "Episode finished after 144 timesteps with reward=-143.0\n",
      "Episode finished after 141 timesteps with reward=-140.0\n"
     ]
    },
    {
     "name": "stderr",
     "output_type": "stream",
     "text": [
      "[2017-09-23 20:22:34,526] Finished writing results. You can upload them to the scoreboard via gym.upload('C:\\\\Users\\\\1\\\\Documents\\\\RL_practice\\\\Practical_RL\\\\week4\\\\records')\n"
     ]
    },
    {
     "name": "stdout",
     "output_type": "stream",
     "text": [
      "iter=4300\tepsilon=0.063\n",
      "Current score(mean over 3) = -145.667\n"
     ]
    },
    {
     "name": "stderr",
     "output_type": "stream",
     "text": [
      " 44%|████████████████▎                    | 4399/10000 [12:30<15:04,  6.19it/s][2017-09-23 20:22:51,212] Making new env: Acrobot-v1\n",
      "[2017-09-23 20:22:51,214] Clearing 2 monitor files from previous run (because force=True was provided)\n"
     ]
    },
    {
     "name": "stdout",
     "output_type": "stream",
     "text": [
      "Episode finished after 207 timesteps with reward=-206.0\n",
      "Episode finished after 260 timesteps with reward=-259.0\n",
      "Episode finished after 500 timesteps with reward=-500.0\n"
     ]
    },
    {
     "name": "stderr",
     "output_type": "stream",
     "text": [
      "[2017-09-23 20:22:51,701] Finished writing results. You can upload them to the scoreboard via gym.upload('C:\\\\Users\\\\1\\\\Documents\\\\RL_practice\\\\Practical_RL\\\\week4\\\\records')\n"
     ]
    },
    {
     "name": "stdout",
     "output_type": "stream",
     "text": [
      "iter=4400\tepsilon=0.062\n",
      "Current score(mean over 3) = -321.667\n"
     ]
    },
    {
     "name": "stderr",
     "output_type": "stream",
     "text": [
      " 45%|████████████████▋                    | 4499/10000 [12:47<15:20,  5.98it/s][2017-09-23 20:23:08,300] Making new env: Acrobot-v1\n",
      "[2017-09-23 20:23:08,302] Clearing 2 monitor files from previous run (because force=True was provided)\n"
     ]
    },
    {
     "name": "stdout",
     "output_type": "stream",
     "text": [
      "Episode finished after 384 timesteps with reward=-383.0\n",
      "Episode finished after 194 timesteps with reward=-193.0\n",
      "Episode finished after 402 timesteps with reward=-401.0\n"
     ]
    },
    {
     "name": "stderr",
     "output_type": "stream",
     "text": [
      "[2017-09-23 20:23:08,834] Finished writing results. You can upload them to the scoreboard via gym.upload('C:\\\\Users\\\\1\\\\Documents\\\\RL_practice\\\\Practical_RL\\\\week4\\\\records')\n"
     ]
    },
    {
     "name": "stdout",
     "output_type": "stream",
     "text": [
      "iter=4500\tepsilon=0.061\n",
      "Current score(mean over 3) = -325.667\n"
     ]
    },
    {
     "name": "stderr",
     "output_type": "stream",
     "text": [
      " 46%|█████████████████                    | 4599/10000 [13:05<15:14,  5.91it/s][2017-09-23 20:23:25,786] Making new env: Acrobot-v1\n",
      "[2017-09-23 20:23:25,792] Clearing 2 monitor files from previous run (because force=True was provided)\n"
     ]
    },
    {
     "name": "stdout",
     "output_type": "stream",
     "text": [
      "Episode finished after 112 timesteps with reward=-111.0\n",
      "Episode finished after 78 timesteps with reward=-77.0\n",
      "Episode finished after 105 timesteps with reward=-104.0\n"
     ]
    },
    {
     "name": "stderr",
     "output_type": "stream",
     "text": [
      "[2017-09-23 20:23:25,966] Finished writing results. You can upload them to the scoreboard via gym.upload('C:\\\\Users\\\\1\\\\Documents\\\\RL_practice\\\\Practical_RL\\\\week4\\\\records')\n"
     ]
    },
    {
     "name": "stdout",
     "output_type": "stream",
     "text": [
      "iter=4600\tepsilon=0.060\n",
      "Current score(mean over 3) = -97.333\n"
     ]
    },
    {
     "name": "stderr",
     "output_type": "stream",
     "text": [
      " 47%|█████████████████▍                   | 4699/10000 [13:22<14:46,  5.98it/s][2017-09-23 20:23:42,770] Making new env: Acrobot-v1\n",
      "[2017-09-23 20:23:42,775] Clearing 2 monitor files from previous run (because force=True was provided)\n"
     ]
    },
    {
     "name": "stdout",
     "output_type": "stream",
     "text": [
      "Episode finished after 161 timesteps with reward=-160.0\n",
      "Episode finished after 189 timesteps with reward=-188.0\n",
      "Episode finished after 500 timesteps with reward=-500.0\n"
     ]
    },
    {
     "name": "stderr",
     "output_type": "stream",
     "text": [
      "[2017-09-23 20:23:43,258] Finished writing results. You can upload them to the scoreboard via gym.upload('C:\\\\Users\\\\1\\\\Documents\\\\RL_practice\\\\Practical_RL\\\\week4\\\\records')\n"
     ]
    },
    {
     "name": "stdout",
     "output_type": "stream",
     "text": [
      "iter=4700\tepsilon=0.059\n",
      "Current score(mean over 3) = -282.667\n"
     ]
    },
    {
     "name": "stderr",
     "output_type": "stream",
     "text": [
      " 48%|█████████████████▊                   | 4799/10000 [13:39<14:37,  5.93it/s][2017-09-23 20:23:59,935] Making new env: Acrobot-v1\n",
      "[2017-09-23 20:23:59,941] Clearing 2 monitor files from previous run (because force=True was provided)\n"
     ]
    },
    {
     "name": "stdout",
     "output_type": "stream",
     "text": [
      "Episode finished after 393 timesteps with reward=-392.0\n",
      "Episode finished after 320 timesteps with reward=-319.0\n",
      "Episode finished after 366 timesteps with reward=-365.0\n"
     ]
    },
    {
     "name": "stderr",
     "output_type": "stream",
     "text": [
      "[2017-09-23 20:24:00,579] Finished writing results. You can upload them to the scoreboard via gym.upload('C:\\\\Users\\\\1\\\\Documents\\\\RL_practice\\\\Practical_RL\\\\week4\\\\records')\n"
     ]
    },
    {
     "name": "stdout",
     "output_type": "stream",
     "text": [
      "iter=4800\tepsilon=0.058\n",
      "Current score(mean over 3) = -358.667\n"
     ]
    },
    {
     "name": "stderr",
     "output_type": "stream",
     "text": [
      " 49%|██████████████████▏                  | 4899/10000 [13:56<13:41,  6.21it/s][2017-09-23 20:24:17,379] Making new env: Acrobot-v1\n",
      "[2017-09-23 20:24:17,381] Clearing 2 monitor files from previous run (because force=True was provided)\n"
     ]
    },
    {
     "name": "stdout",
     "output_type": "stream",
     "text": [
      "Episode finished after 128 timesteps with reward=-127.0\n",
      "Episode finished after 97 timesteps with reward=-96.0\n",
      "Episode finished after 237 timesteps with reward=-236.0\n"
     ]
    },
    {
     "name": "stderr",
     "output_type": "stream",
     "text": [
      "[2017-09-23 20:24:17,631] Finished writing results. You can upload them to the scoreboard via gym.upload('C:\\\\Users\\\\1\\\\Documents\\\\RL_practice\\\\Practical_RL\\\\week4\\\\records')\n"
     ]
    },
    {
     "name": "stdout",
     "output_type": "stream",
     "text": [
      "iter=4900\tepsilon=0.057\n",
      "Current score(mean over 3) = -153.000\n"
     ]
    },
    {
     "name": "stderr",
     "output_type": "stream",
     "text": [
      " 50%|██████████████████▍                  | 4999/10000 [14:14<14:14,  5.85it/s][2017-09-23 20:24:34,677] Making new env: Acrobot-v1\n",
      "[2017-09-23 20:24:34,681] Clearing 2 monitor files from previous run (because force=True was provided)\n"
     ]
    },
    {
     "name": "stdout",
     "output_type": "stream",
     "text": [
      "Episode finished after 219 timesteps with reward=-218.0\n",
      "Episode finished after 301 timesteps with reward=-300.0\n",
      "Episode finished after 444 timesteps with reward=-443.0\n"
     ]
    },
    {
     "name": "stderr",
     "output_type": "stream",
     "text": [
      "[2017-09-23 20:24:35,357] Finished writing results. You can upload them to the scoreboard via gym.upload('C:\\\\Users\\\\1\\\\Documents\\\\RL_practice\\\\Practical_RL\\\\week4\\\\records')\n"
     ]
    },
    {
     "name": "stdout",
     "output_type": "stream",
     "text": [
      "iter=5000\tepsilon=0.056\n",
      "Current score(mean over 3) = -320.333\n"
     ]
    },
    {
     "name": "stderr",
     "output_type": "stream",
     "text": [
      " 51%|██████████████████▊                  | 5099/10000 [14:31<14:00,  5.83it/s][2017-09-23 20:24:52,159] Making new env: Acrobot-v1\n",
      "[2017-09-23 20:24:52,163] Clearing 2 monitor files from previous run (because force=True was provided)\n"
     ]
    },
    {
     "name": "stdout",
     "output_type": "stream",
     "text": [
      "Episode finished after 254 timesteps with reward=-253.0\n",
      "Episode finished after 355 timesteps with reward=-354.0\n",
      "Episode finished after 313 timesteps with reward=-312.0\n"
     ]
    },
    {
     "name": "stderr",
     "output_type": "stream",
     "text": [
      "[2017-09-23 20:24:52,663] Finished writing results. You can upload them to the scoreboard via gym.upload('C:\\\\Users\\\\1\\\\Documents\\\\RL_practice\\\\Practical_RL\\\\week4\\\\records')\n"
     ]
    },
    {
     "name": "stdout",
     "output_type": "stream",
     "text": [
      "iter=5100\tepsilon=0.056\n",
      "Current score(mean over 3) = -306.333\n"
     ]
    },
    {
     "name": "stderr",
     "output_type": "stream",
     "text": [
      " 52%|███████████████████▏                 | 5199/10000 [14:48<13:50,  5.78it/s][2017-09-23 20:25:09,295] Making new env: Acrobot-v1\n",
      "[2017-09-23 20:25:09,299] Clearing 2 monitor files from previous run (because force=True was provided)\n"
     ]
    },
    {
     "name": "stdout",
     "output_type": "stream",
     "text": [
      "Episode finished after 364 timesteps with reward=-363.0\n",
      "Episode finished after 289 timesteps with reward=-288.0\n",
      "Episode finished after 500 timesteps with reward=-500.0\n"
     ]
    },
    {
     "name": "stderr",
     "output_type": "stream",
     "text": [
      "[2017-09-23 20:25:09,940] Finished writing results. You can upload them to the scoreboard via gym.upload('C:\\\\Users\\\\1\\\\Documents\\\\RL_practice\\\\Practical_RL\\\\week4\\\\records')\n"
     ]
    },
    {
     "name": "stdout",
     "output_type": "stream",
     "text": [
      "iter=5200\tepsilon=0.055\n",
      "Current score(mean over 3) = -383.667\n"
     ]
    },
    {
     "name": "stderr",
     "output_type": "stream",
     "text": [
      " 53%|███████████████████▌                 | 5299/10000 [15:06<13:17,  5.89it/s][2017-09-23 20:25:26,912] Making new env: Acrobot-v1\n",
      "[2017-09-23 20:25:26,915] Clearing 2 monitor files from previous run (because force=True was provided)\n"
     ]
    },
    {
     "name": "stdout",
     "output_type": "stream",
     "text": [
      "Episode finished after 152 timesteps with reward=-151.0\n",
      "Episode finished after 125 timesteps with reward=-124.0\n",
      "Episode finished after 176 timesteps with reward=-175.0\n"
     ]
    },
    {
     "name": "stderr",
     "output_type": "stream",
     "text": [
      "[2017-09-23 20:25:27,161] Finished writing results. You can upload them to the scoreboard via gym.upload('C:\\\\Users\\\\1\\\\Documents\\\\RL_practice\\\\Practical_RL\\\\week4\\\\records')\n"
     ]
    },
    {
     "name": "stdout",
     "output_type": "stream",
     "text": [
      "iter=5300\tepsilon=0.055\n",
      "Current score(mean over 3) = -150.000\n"
     ]
    },
    {
     "name": "stderr",
     "output_type": "stream",
     "text": [
      " 54%|███████████████████▉                 | 5399/10000 [15:23<12:23,  6.19it/s][2017-09-23 20:25:43,850] Making new env: Acrobot-v1\n",
      "[2017-09-23 20:25:43,855] Clearing 2 monitor files from previous run (because force=True was provided)\n"
     ]
    },
    {
     "name": "stdout",
     "output_type": "stream",
     "text": [
      "Episode finished after 197 timesteps with reward=-196.0\n",
      "Episode finished after 159 timesteps with reward=-158.0\n",
      "Episode finished after 184 timesteps with reward=-183.0\n"
     ]
    },
    {
     "name": "stderr",
     "output_type": "stream",
     "text": [
      "[2017-09-23 20:25:44,150] Finished writing results. You can upload them to the scoreboard via gym.upload('C:\\\\Users\\\\1\\\\Documents\\\\RL_practice\\\\Practical_RL\\\\week4\\\\records')\n"
     ]
    },
    {
     "name": "stdout",
     "output_type": "stream",
     "text": [
      "iter=5400\tepsilon=0.054\n",
      "Current score(mean over 3) = -179.000\n"
     ]
    },
    {
     "name": "stderr",
     "output_type": "stream",
     "text": [
      " 55%|████████████████████▎                | 5499/10000 [15:40<12:20,  6.08it/s][2017-09-23 20:26:00,833] Making new env: Acrobot-v1\n",
      "[2017-09-23 20:26:00,839] Clearing 2 monitor files from previous run (because force=True was provided)\n"
     ]
    },
    {
     "name": "stdout",
     "output_type": "stream",
     "text": [
      "Episode finished after 130 timesteps with reward=-129.0\n",
      "Episode finished after 128 timesteps with reward=-127.0\n",
      "Episode finished after 119 timesteps with reward=-118.0\n"
     ]
    },
    {
     "name": "stderr",
     "output_type": "stream",
     "text": [
      "[2017-09-23 20:26:01,059] Finished writing results. You can upload them to the scoreboard via gym.upload('C:\\\\Users\\\\1\\\\Documents\\\\RL_practice\\\\Practical_RL\\\\week4\\\\records')\n"
     ]
    },
    {
     "name": "stdout",
     "output_type": "stream",
     "text": [
      "iter=5500\tepsilon=0.054\n",
      "Current score(mean over 3) = -124.667\n"
     ]
    },
    {
     "name": "stderr",
     "output_type": "stream",
     "text": [
      " 56%|████████████████████▋                | 5599/10000 [15:57<12:36,  5.82it/s][2017-09-23 20:26:17,658] Making new env: Acrobot-v1\n",
      "[2017-09-23 20:26:17,662] Clearing 2 monitor files from previous run (because force=True was provided)\n"
     ]
    },
    {
     "name": "stdout",
     "output_type": "stream",
     "text": [
      "Episode finished after 475 timesteps with reward=-474.0\n",
      "Episode finished after 498 timesteps with reward=-497.0\n",
      "Episode finished after 356 timesteps with reward=-355.0\n"
     ]
    },
    {
     "name": "stderr",
     "output_type": "stream",
     "text": [
      "[2017-09-23 20:26:18,411] Finished writing results. You can upload them to the scoreboard via gym.upload('C:\\\\Users\\\\1\\\\Documents\\\\RL_practice\\\\Practical_RL\\\\week4\\\\records')\n"
     ]
    },
    {
     "name": "stdout",
     "output_type": "stream",
     "text": [
      "iter=5600\tepsilon=0.054\n",
      "Current score(mean over 3) = -442.000\n"
     ]
    },
    {
     "name": "stderr",
     "output_type": "stream",
     "text": [
      " 57%|█████████████████████                | 5699/10000 [16:14<12:01,  5.96it/s][2017-09-23 20:26:35,344] Making new env: Acrobot-v1\n",
      "[2017-09-23 20:26:35,348] Clearing 2 monitor files from previous run (because force=True was provided)\n"
     ]
    },
    {
     "name": "stdout",
     "output_type": "stream",
     "text": [
      "Episode finished after 500 timesteps with reward=-500.0\n",
      "Episode finished after 375 timesteps with reward=-374.0\n",
      "Episode finished after 500 timesteps with reward=-500.0\n"
     ]
    },
    {
     "name": "stderr",
     "output_type": "stream",
     "text": [
      "[2017-09-23 20:26:36,093] Finished writing results. You can upload them to the scoreboard via gym.upload('C:\\\\Users\\\\1\\\\Documents\\\\RL_practice\\\\Practical_RL\\\\week4\\\\records')\n"
     ]
    },
    {
     "name": "stdout",
     "output_type": "stream",
     "text": [
      "iter=5700\tepsilon=0.053\n",
      "Current score(mean over 3) = -458.000\n"
     ]
    },
    {
     "name": "stderr",
     "output_type": "stream",
     "text": [
      " 58%|█████████████████████▍               | 5799/10000 [16:32<11:14,  6.23it/s][2017-09-23 20:26:52,800] Making new env: Acrobot-v1\n",
      "[2017-09-23 20:26:52,802] Clearing 2 monitor files from previous run (because force=True was provided)\n"
     ]
    },
    {
     "name": "stdout",
     "output_type": "stream",
     "text": [
      "Episode finished after 78 timesteps with reward=-77.0\n",
      "Episode finished after 104 timesteps with reward=-103.0\n",
      "Episode finished after 116 timesteps with reward=-115.0\n"
     ]
    },
    {
     "name": "stderr",
     "output_type": "stream",
     "text": [
      "[2017-09-23 20:26:52,975] Finished writing results. You can upload them to the scoreboard via gym.upload('C:\\\\Users\\\\1\\\\Documents\\\\RL_practice\\\\Practical_RL\\\\week4\\\\records')\n"
     ]
    },
    {
     "name": "stdout",
     "output_type": "stream",
     "text": [
      "iter=5800\tepsilon=0.053\n",
      "Current score(mean over 3) = -98.333\n"
     ]
    },
    {
     "name": "stderr",
     "output_type": "stream",
     "text": [
      " 59%|█████████████████████▊               | 5899/10000 [16:49<11:55,  5.73it/s][2017-09-23 20:27:09,985] Making new env: Acrobot-v1\n",
      "[2017-09-23 20:27:09,989] Clearing 2 monitor files from previous run (because force=True was provided)\n"
     ]
    },
    {
     "name": "stdout",
     "output_type": "stream",
     "text": [
      "Episode finished after 170 timesteps with reward=-169.0\n",
      "Episode finished after 176 timesteps with reward=-175.0\n",
      "Episode finished after 209 timesteps with reward=-208.0\n"
     ]
    },
    {
     "name": "stderr",
     "output_type": "stream",
     "text": [
      "[2017-09-23 20:27:10,296] Finished writing results. You can upload them to the scoreboard via gym.upload('C:\\\\Users\\\\1\\\\Documents\\\\RL_practice\\\\Practical_RL\\\\week4\\\\records')\n"
     ]
    },
    {
     "name": "stdout",
     "output_type": "stream",
     "text": [
      "iter=5900\tepsilon=0.053\n",
      "Current score(mean over 3) = -184.000\n"
     ]
    },
    {
     "name": "stderr",
     "output_type": "stream",
     "text": [
      " 60%|██████████████████████▏              | 5999/10000 [17:06<10:52,  6.13it/s][2017-09-23 20:27:27,241] Making new env: Acrobot-v1\n",
      "[2017-09-23 20:27:27,245] Clearing 2 monitor files from previous run (because force=True was provided)\n"
     ]
    },
    {
     "name": "stdout",
     "output_type": "stream",
     "text": [
      "Episode finished after 500 timesteps with reward=-500.0\n",
      "Episode finished after 163 timesteps with reward=-162.0\n",
      "Episode finished after 500 timesteps with reward=-500.0\n"
     ]
    },
    {
     "name": "stderr",
     "output_type": "stream",
     "text": [
      "[2017-09-23 20:27:27,868] Finished writing results. You can upload them to the scoreboard via gym.upload('C:\\\\Users\\\\1\\\\Documents\\\\RL_practice\\\\Practical_RL\\\\week4\\\\records')\n"
     ]
    },
    {
     "name": "stdout",
     "output_type": "stream",
     "text": [
      "iter=6000\tepsilon=0.052\n",
      "Current score(mean over 3) = -387.333\n"
     ]
    },
    {
     "name": "stderr",
     "output_type": "stream",
     "text": [
      " 61%|██████████████████████▌              | 6099/10000 [17:24<11:00,  5.91it/s][2017-09-23 20:27:44,942] Making new env: Acrobot-v1\n",
      "[2017-09-23 20:27:44,946] Clearing 2 monitor files from previous run (because force=True was provided)\n"
     ]
    },
    {
     "name": "stdout",
     "output_type": "stream",
     "text": [
      "Episode finished after 160 timesteps with reward=-159.0\n",
      "Episode finished after 246 timesteps with reward=-245.0\n",
      "Episode finished after 411 timesteps with reward=-410.0\n"
     ]
    },
    {
     "name": "stderr",
     "output_type": "stream",
     "text": [
      "[2017-09-23 20:27:45,400] Finished writing results. You can upload them to the scoreboard via gym.upload('C:\\\\Users\\\\1\\\\Documents\\\\RL_practice\\\\Practical_RL\\\\week4\\\\records')\n"
     ]
    },
    {
     "name": "stdout",
     "output_type": "stream",
     "text": [
      "iter=6100\tepsilon=0.052\n",
      "Current score(mean over 3) = -271.333\n"
     ]
    },
    {
     "name": "stderr",
     "output_type": "stream",
     "text": [
      " 62%|██████████████████████▉              | 6199/10000 [17:41<10:40,  5.93it/s][2017-09-23 20:28:02,277] Making new env: Acrobot-v1\n",
      "[2017-09-23 20:28:02,279] Clearing 2 monitor files from previous run (because force=True was provided)\n"
     ]
    },
    {
     "name": "stdout",
     "output_type": "stream",
     "text": [
      "Episode finished after 62 timesteps with reward=-61.0\n",
      "Episode finished after 86 timesteps with reward=-85.0\n",
      "Episode finished after 108 timesteps with reward=-107.0\n"
     ]
    },
    {
     "name": "stderr",
     "output_type": "stream",
     "text": [
      "[2017-09-23 20:28:02,430] Finished writing results. You can upload them to the scoreboard via gym.upload('C:\\\\Users\\\\1\\\\Documents\\\\RL_practice\\\\Practical_RL\\\\week4\\\\records')\n"
     ]
    },
    {
     "name": "stdout",
     "output_type": "stream",
     "text": [
      "iter=6200\tepsilon=0.052\n",
      "Current score(mean over 3) = -84.333\n",
      "You win!\n"
     ]
    }
   ],
   "source": [
    "from tqdm import trange\n",
    "\n",
    "for i in trange(10000):    \n",
    "    \n",
    "    #play\n",
    "    for _ in range(5):\n",
    "        pool.update(SEQ_LENGTH,append=True)\n",
    "    \n",
    "    #train\n",
    "    train_step()\n",
    "    \n",
    "    #update epsilon\n",
    "    epsilon = 0.05 + 0.95*np.exp(-epoch_counter/1000.)\n",
    "    action_layer.epsilon.set_value(np.float32(epsilon))\n",
    "    \n",
    "    #play a few games for evaluation\n",
    "    if epoch_counter%100==0:\n",
    "        rewards[epoch_counter] = np.mean(pool.evaluate(n_games=3,record_video=False))\n",
    "        print(\"iter=%i\\tepsilon=%.3f\"%(epoch_counter,action_layer.epsilon.get_value(),))\n",
    "        print(\"Current score(mean over %i) = %.3f\"%(3,np.mean(rewards[epoch_counter])))\n",
    "    \n",
    "        if rewards[epoch_counter] >= target_score:\n",
    "            print(\"You win!\")\n",
    "            break\n",
    "\n",
    "    \n",
    "    epoch_counter  +=1\n",
    "\n",
    "    \n",
    "# Time to drink some coffee!"
   ]
  },
  {
   "cell_type": "code",
   "execution_count": 30,
   "metadata": {},
   "outputs": [
    {
     "name": "stderr",
     "output_type": "stream",
     "text": [
      "C:\\ProgramData\\Anaconda3\\envs\\rl_practice\\lib\\site-packages\\ipykernel_launcher.py:3: FutureWarning: pd.ewm_mean is deprecated for ndarrays and will be removed in a future version\n",
      "  This is separate from the ipykernel package so we can avoid doing imports until\n"
     ]
    },
    {
     "data": {
      "text/plain": [
       "[<matplotlib.lines.Line2D at 0x196412b0>]"
      ]
     },
     "execution_count": 30,
     "metadata": {},
     "output_type": "execute_result"
    },
    {
     "data": {
      "image/png": "[encoded data removed]",
      "text/plain": [
       "<matplotlib.figure.Figure at 0x195619b0>"
      ]
     },
     "metadata": {},
     "output_type": "display_data"
    }
   ],
   "source": [
    "from pandas import ewma\n",
    "iters,session_rewards=zip(*sorted(rewards.items(), key=lambda k:k[0]))\n",
    "plt.plot(iters,ewma(np.array(session_rewards),span=10))"
   ]
  },
  {
   "cell_type": "code",
   "execution_count": 31,
   "metadata": {},
   "outputs": [
    {
     "name": "stderr",
     "output_type": "stream",
     "text": [
      "[2017-09-23 21:17:03,773] Making new env: Acrobot-v1\n",
      "[2017-09-23 21:17:03,778] Clearing 2 monitor files from previous run (because force=True was provided)\n",
      "[2017-09-23 21:17:03,783] Starting new video recorder writing to C:\\Users\\1\\Documents\\RL_practice\\Practical_RL\\week4\\records\\openaigym.video.63.7388.video000000.mp4\n"
     ]
    },
    {
     "name": "stdout",
     "output_type": "stream",
     "text": [
      "Episode finished after 81 timesteps with reward=-80.0\n"
     ]
    },
    {
     "name": "stderr",
     "output_type": "stream",
     "text": [
      "[2017-09-23 21:17:05,454] Starting new video recorder writing to C:\\Users\\1\\Documents\\RL_practice\\Practical_RL\\week4\\records\\openaigym.video.63.7388.video000001.mp4\n"
     ]
    },
    {
     "name": "stdout",
     "output_type": "stream",
     "text": [
      "Episode finished after 79 timesteps with reward=-78.0\n",
      "Episode finished after 95 timesteps with reward=-94.0\n",
      "Episode finished after 110 timesteps with reward=-109.0\n",
      "Episode finished after 75 timesteps with reward=-74.0\n",
      "Episode finished after 80 timesteps with reward=-79.0\n",
      "Episode finished after 110 timesteps with reward=-109.0\n",
      "Episode finished after 98 timesteps with reward=-97.0\n"
     ]
    },
    {
     "name": "stderr",
     "output_type": "stream",
     "text": [
      "[2017-09-23 21:17:07,278] Starting new video recorder writing to C:\\Users\\1\\Documents\\RL_practice\\Practical_RL\\week4\\records\\openaigym.video.63.7388.video000008.mp4\n"
     ]
    },
    {
     "name": "stdout",
     "output_type": "stream",
     "text": [
      "Episode finished after 71 timesteps with reward=-70.0\n",
      "Episode finished after 77 timesteps with reward=-76.0\n"
     ]
    },
    {
     "name": "stderr",
     "output_type": "stream",
     "text": [
      "[2017-09-23 21:17:08,631] Finished writing results. You can upload them to the scoreboard via gym.upload('C:\\\\Users\\\\1\\\\Documents\\\\RL_practice\\\\Practical_RL\\\\week4\\\\records')\n"
     ]
    },
    {
     "name": "stdout",
     "output_type": "stream",
     "text": [
      "average reward: [-80.0, -78.0, -94.0, -109.0, -74.0, -79.0, -109.0, -97.0, -70.0, -76.0]\n"
     ]
    }
   ],
   "source": [
    "final_reward = pool.evaluate(n_games=10,save_path=\"./records\",record_video=True)\n",
    "\n",
    "print(\"average reward:\",final_reward)\n",
    "\n",
    "video_names = list(filter(lambda s:s.endswith(\".mp4\"),os.listdir(\"./records/\")))\n",
    "\n",
    "for video_name in video_names:\n",
    "    HTML(\"\"\"\n",
    "    <video width=\"640\" height=\"480\" controls>\n",
    "      <source src=\"{}\" type=\"video/mp4\">\n",
    "    </video>\n",
    "    \"\"\".format(\"./records/\"+video_name)) #this may or may not be _last_ video. Try other indices"
   ]
  },
  {
   "cell_type": "code",
   "execution_count": 32,
   "metadata": {},
   "outputs": [
    {
     "data": {
      "text/html": [
       "\n",
       "<video width=\"640\" height=\"480\" controls>\n",
       "  <source src=\"./records/openaigym.video.63.7388.video000008.mp4\" type=\"video/mp4\">\n",
       "</video>\n"
      ],
      "text/plain": [
       "<IPython.core.display.HTML object>"
      ]
     },
     "execution_count": 32,
     "metadata": {},
     "output_type": "execute_result"
    }
   ],
   "source": [
    "HTML(\"\"\"\n",
    "<video width=\"640\" height=\"480\" controls>\n",
    "  <source src=\"{}\" type=\"video/mp4\">\n",
    "</video>\n",
    "\"\"\".format(\"./records/\"+video_names[-1])) #this may or may not be _last_ video. Try other indices"
   ]
  },
  {
   "cell_type": "markdown",
   "metadata": {
    "collapsed": true
   },
   "source": [
    "## Homework part I (5+ pts)\n",
    "\n",
    "Train a neural network for [`LunarLander-v2`](https://gym.openai.com/envs/LunarLander-v2).\n",
    "* Getting average reward of at least +0 gets you 5 points\n",
    "* Higher reward = more points\n",
    "\n",
    "\n",
    "## Bonus I\n",
    "* Try getting the same [or better] results on Acrobot __(+2 pts)__ or __LunarLander (+3 pts)__ using on-policy methods\n",
    "* You can get n-step q-learning by messing with ```n_steps``` param in the q-learning code above\n",
    "* Note that using large experience replay buffer will slow down on-policy algorithms to almost zero, so it's probably a good idea to use small experience replay buffer with several parallel agents"
   ]
  },
  {
   "cell_type": "code",
   "execution_count": null,
   "metadata": {
    "collapsed": true
   },
   "outputs": [],
   "source": []
  }
 ],
 "metadata": {
  "kernelspec": {
   "display_name": "RL_kernel",
   "language": "python",
   "name": "rl_practice"
  },
  "language_info": {
   "codemirror_mode": {
    "name": "ipython",
    "version": 3
   },
   "file_extension": ".py",
   "mimetype": "text/x-python",
   "name": "python",
   "nbconvert_exporter": "python",
   "pygments_lexer": "ipython3",
   "version": "3.5.4"
  }
 },
 "nbformat": 4,
 "nbformat_minor": 1
}
